{
 "cells": [
  {
   "cell_type": "code",
   "execution_count": 1,
   "metadata": {},
   "outputs": [],
   "source": [
    "import numpy as np\n",
    "import pandas as pd\n",
    "import matplotlib.pyplot as plt\n",
    "import time\n",
    "import datetime"
   ]
  },
  {
   "cell_type": "markdown",
   "metadata": {},
   "source": [
    "# 一、时间戳 Timestamp 对象\n"
   ]
  },
  {
   "cell_type": "markdown",
   "metadata": {},
   "source": [
    "# 生成***时刻***有如下两种方法\n",
    "- pd.Timestamp()   直接生成时间戳\n",
    "- pd.to_datetime()   将其转变成时间形式"
   ]
  },
  {
   "cell_type": "markdown",
   "metadata": {},
   "source": [
    "## 1. pd.Timestamp\n",
    "- 1.1 传入一个字符串\n",
    "- 1.2 传入一个数值\n",
    "- 1.3 传入多个日期元素\n",
    "- 1.4 传入一个datetime实例"
   ]
  },
  {
   "cell_type": "markdown",
   "metadata": {},
   "source": [
    "- 类型 描述\n",
    "- %Y 四位的年份\n",
    "- %y 两位的年份\n",
    "- %m 两位的月份\n",
    "- %d 两位的日期号\n",
    "- %H 小时，24小时制00-23\n",
    "- %I 小时，12小时制01-12\n",
    "- %M 两位的分钟00-59\n",
    "- %S 秒00-61，其中60,61是闰秒\n",
    "- %w 星期日期0-6，其中0表示星期日\n",
    "- %U 一年中的星期数00-53。以星期天为每周第一天，一年中第一个星期天前的日期作为第“0”周\n",
    "- %W 一年中的星期数00-53。以星期一为每周第一天，一年中第一个星期一前的日期作为第“0”周\n",
    "- %z 格式为+HHMM或者-HHMM的UTC时区偏移；如果没有时区则为空。\n",
    "- %F %Y-%m-%d的简写\n",
    "- %D %m/%d/%y的简写"
   ]
  },
  {
   "cell_type": "code",
   "execution_count": 2,
   "metadata": {},
   "outputs": [
    {
     "data": {
      "text/plain": [
       "Timestamp('2019-10-30 00:00:00')"
      ]
     },
     "execution_count": 2,
     "metadata": {},
     "output_type": "execute_result"
    }
   ],
   "source": [
    "# 对象为字符串\n",
    "pd.Timestamp('2019-10-30')\n",
    "# 字符串要求必须有一定的规律"
   ]
  },
  {
   "cell_type": "code",
   "execution_count": 3,
   "metadata": {},
   "outputs": [
    {
     "data": {
      "text/plain": [
       "Timestamp('2019-10-30 12:00:00')"
      ]
     },
     "execution_count": 3,
     "metadata": {},
     "output_type": "execute_result"
    }
   ],
   "source": [
    "# T 表示是时间\n",
    "pd.Timestamp('2019/10/30T12')"
   ]
  },
  {
   "cell_type": "code",
   "execution_count": 4,
   "metadata": {},
   "outputs": [
    {
     "data": {
      "text/plain": [
       "Timestamp('2019-10-30 12:30:30')"
      ]
     },
     "execution_count": 4,
     "metadata": {},
     "output_type": "execute_result"
    }
   ],
   "source": [
    "pd.Timestamp('2019/10/30T123030')"
   ]
  },
  {
   "cell_type": "code",
   "execution_count": 5,
   "metadata": {},
   "outputs": [
    {
     "data": {
      "text/plain": [
       "Timestamp('1970-01-01 00:00:00')"
      ]
     },
     "execution_count": 5,
     "metadata": {},
     "output_type": "execute_result"
    }
   ],
   "source": [
    "pd.Timestamp(0)\n",
    "# python的初始时间"
   ]
  },
  {
   "cell_type": "code",
   "execution_count": 6,
   "metadata": {},
   "outputs": [
    {
     "data": {
      "text/plain": [
       "Timestamp('1970-01-01 00:00:00.000002019')"
      ]
     },
     "execution_count": 6,
     "metadata": {},
     "output_type": "execute_result"
    }
   ],
   "source": [
    "# 对象为数值  在python初始的默认时间上加该数值得到一个时间\n",
    "pd.Timestamp(2019)"
   ]
  },
  {
   "cell_type": "code",
   "execution_count": 7,
   "metadata": {},
   "outputs": [
    {
     "data": {
      "text/plain": [
       "Timestamp('1970-01-01 00:33:39')"
      ]
     },
     "execution_count": 7,
     "metadata": {},
     "output_type": "execute_result"
    }
   ],
   "source": [
    "pd.Timestamp(2019,unit='s')\n",
    "# 表示在初始的时间上加2019秒 转化成33分39秒"
   ]
  },
  {
   "cell_type": "code",
   "execution_count": 8,
   "metadata": {},
   "outputs": [
    {
     "data": {
      "text/plain": [
       "Timestamp('1970-01-02 09:39:00')"
      ]
     },
     "execution_count": 8,
     "metadata": {},
     "output_type": "execute_result"
    }
   ],
   "source": [
    "pd.Timestamp(2019,unit='m')"
   ]
  },
  {
   "cell_type": "code",
   "execution_count": 9,
   "metadata": {},
   "outputs": [
    {
     "data": {
      "text/plain": [
       "Timestamp('1970-03-26 03:00:00')"
      ]
     },
     "execution_count": 9,
     "metadata": {},
     "output_type": "execute_result"
    }
   ],
   "source": [
    "pd.Timestamp(2019,unit='h')"
   ]
  },
  {
   "cell_type": "code",
   "execution_count": 10,
   "metadata": {},
   "outputs": [
    {
     "data": {
      "text/plain": [
       "Timestamp('1970-01-01 08:00:00.000002019+0800', tz='Asia/Shanghai')"
      ]
     },
     "execution_count": 10,
     "metadata": {},
     "output_type": "execute_result"
    }
   ],
   "source": [
    "# 可设定时区，默认的时区为0时区\n",
    "pd.Timestamp(2019,tz='Asia/Shanghai')\n",
    "# 亚洲或上海的时区"
   ]
  },
  {
   "cell_type": "code",
   "execution_count": 11,
   "metadata": {},
   "outputs": [],
   "source": [
    "# # 查看所有的时区\n",
    "# import pytz\n",
    "# pytz.common_timezones"
   ]
  },
  {
   "cell_type": "code",
   "execution_count": 12,
   "metadata": {},
   "outputs": [
    {
     "data": {
      "text/plain": [
       "Timestamp('2019-10-30 12:30:45')"
      ]
     },
     "execution_count": 12,
     "metadata": {},
     "output_type": "execute_result"
    }
   ],
   "source": [
    "#传入多个日期元素\n",
    "pd.Timestamp(2019,10,30,12,30,45)"
   ]
  },
  {
   "cell_type": "code",
   "execution_count": 13,
   "metadata": {},
   "outputs": [],
   "source": [
    "ye=pd.Timestamp(year=2019,month=10,day=30,hour=16,minute=59,second=30)"
   ]
  },
  {
   "cell_type": "code",
   "execution_count": 14,
   "metadata": {},
   "outputs": [
    {
     "data": {
      "text/plain": [
       "pandas._libs.tslibs.timestamps.Timestamp"
      ]
     },
     "execution_count": 14,
     "metadata": {},
     "output_type": "execute_result"
    }
   ],
   "source": [
    "type(ye)\n",
    "# 类型时间戳"
   ]
  },
  {
   "cell_type": "code",
   "execution_count": 15,
   "metadata": {},
   "outputs": [
    {
     "data": {
      "text/plain": [
       "Timestamp('2019-10-30 00:00:00')"
      ]
     },
     "execution_count": 15,
     "metadata": {},
     "output_type": "execute_result"
    }
   ],
   "source": [
    "# 传入datetime\n",
    "pd.Timestamp(pd.datetime(2019,10,30))"
   ]
  },
  {
   "cell_type": "markdown",
   "metadata": {},
   "source": [
    "## 2. pd.to_datetime\n",
    "- 1.1 传入一个字符串\n",
    "- 1.2 传入一个数值\n",
    "- 1.3 传入一个datetime实例"
   ]
  },
  {
   "cell_type": "code",
   "execution_count": 16,
   "metadata": {},
   "outputs": [
    {
     "data": {
      "text/plain": [
       "'2019/10/30'"
      ]
     },
     "execution_count": 16,
     "metadata": {},
     "output_type": "execute_result"
    }
   ],
   "source": [
    "# 传入字符串\n",
    "pd.to_datetime('2019/10/30',format='%Y/%m%d',errors='ignore')\n",
    "# coerce 强迫"
   ]
  },
  {
   "cell_type": "code",
   "execution_count": 17,
   "metadata": {},
   "outputs": [
    {
     "data": {
      "text/plain": [
       "Timestamp('1970-01-01 00:00:01')"
      ]
     },
     "execution_count": 17,
     "metadata": {},
     "output_type": "execute_result"
    }
   ],
   "source": [
    "# 传入数值\n",
    "pd.to_datetime(1,unit='s')"
   ]
  },
  {
   "cell_type": "code",
   "execution_count": 18,
   "metadata": {},
   "outputs": [
    {
     "data": {
      "text/plain": [
       "Timestamp('2019-10-30 00:00:00')"
      ]
     },
     "execution_count": 18,
     "metadata": {},
     "output_type": "execute_result"
    }
   ],
   "source": [
    "# 传入datetime实例\n",
    "y2=pd.to_datetime(pd.datetime(2019,10,30))\n",
    "y2"
   ]
  },
  {
   "cell_type": "code",
   "execution_count": 19,
   "metadata": {},
   "outputs": [
    {
     "data": {
      "text/plain": [
       "pandas._libs.tslibs.timestamps.Timestamp"
      ]
     },
     "execution_count": 19,
     "metadata": {},
     "output_type": "execute_result"
    }
   ],
   "source": [
    "type(y2)"
   ]
  },
  {
   "cell_type": "markdown",
   "metadata": {},
   "source": [
    "## 获取当前时间"
   ]
  },
  {
   "cell_type": "code",
   "execution_count": 20,
   "metadata": {},
   "outputs": [
    {
     "name": "stdout",
     "output_type": "stream",
     "text": [
      "['__add__', '__class__', '__delattr__', '__dir__', '__doc__', '__eq__', '__format__', '__ge__', '__getattribute__', '__gt__', '__hash__', '__init__', '__init_subclass__', '__le__', '__lt__', '__ne__', '__new__', '__radd__', '__reduce__', '__reduce_ex__', '__repr__', '__rsub__', '__setattr__', '__sizeof__', '__str__', '__sub__', '__subclasshook__', 'astimezone', 'combine', 'ctime', 'date', 'day', 'dst', 'fold', 'fromisoformat', 'fromordinal', 'fromtimestamp', 'hour', 'isocalendar', 'isoformat', 'isoweekday', 'max', 'microsecond', 'min', 'minute', 'month', 'now', 'replace', 'resolution', 'second', 'strftime', 'strptime', 'time', 'timestamp', 'timetuple', 'timetz', 'today', 'toordinal', 'tzinfo', 'tzname', 'utcfromtimestamp', 'utcnow', 'utcoffset', 'utctimetuple', 'weekday', 'year']\n"
     ]
    }
   ],
   "source": [
    "print(dir(pd.datetime))"
   ]
  },
  {
   "cell_type": "code",
   "execution_count": 21,
   "metadata": {},
   "outputs": [
    {
     "data": {
      "text/plain": [
       "datetime.datetime(2019, 11, 16, 22, 9, 15, 717209)"
      ]
     },
     "execution_count": 21,
     "metadata": {},
     "output_type": "execute_result"
    }
   ],
   "source": [
    "# 当前的时间\n",
    "pd.datetime.now()"
   ]
  },
  {
   "cell_type": "code",
   "execution_count": 22,
   "metadata": {},
   "outputs": [
    {
     "data": {
      "text/plain": [
       "datetime.date(2019, 11, 16)"
      ]
     },
     "execution_count": 22,
     "metadata": {},
     "output_type": "execute_result"
    }
   ],
   "source": [
    "pd.datetime.date(pd.datetime.now())\n",
    "# 需要日期的参数"
   ]
  },
  {
   "cell_type": "code",
   "execution_count": 23,
   "metadata": {},
   "outputs": [
    {
     "data": {
      "text/plain": [
       "datetime.datetime(2019, 11, 16, 22, 9, 16, 50228)"
      ]
     },
     "execution_count": 23,
     "metadata": {},
     "output_type": "execute_result"
    }
   ],
   "source": [
    "# datetime的获取当前时间的方式\n",
    "# 当前时间\n",
    "datetime.datetime.now()"
   ]
  },
  {
   "cell_type": "code",
   "execution_count": 24,
   "metadata": {},
   "outputs": [
    {
     "data": {
      "text/plain": [
       "time.struct_time(tm_year=2019, tm_mon=11, tm_mday=16, tm_hour=22, tm_min=9, tm_sec=16, tm_wday=5, tm_yday=320, tm_isdst=-1)"
      ]
     },
     "execution_count": 24,
     "metadata": {},
     "output_type": "execute_result"
    }
   ],
   "source": [
    "datetime.datetime.now().timetuple()\n",
    "# time.struct_time类型"
   ]
  },
  {
   "cell_type": "code",
   "execution_count": 25,
   "metadata": {},
   "outputs": [
    {
     "data": {
      "text/plain": [
       "time.struct_time(tm_year=2019, tm_mon=11, tm_mday=16, tm_hour=22, tm_min=9, tm_sec=16, tm_wday=5, tm_yday=320, tm_isdst=0)"
      ]
     },
     "execution_count": 25,
     "metadata": {},
     "output_type": "execute_result"
    }
   ],
   "source": [
    "# time获取当前的时间的方式\n",
    "# 当前时间\n",
    "time.localtime()\n",
    "# time.struct_time类型"
   ]
  },
  {
   "cell_type": "markdown",
   "metadata": {},
   "source": [
    "## 时间戳的属性和一些应用的方法\n",
    "- 函数  需要加括号\n",
    "- 属性  不需要加括号"
   ]
  },
  {
   "cell_type": "code",
   "execution_count": 26,
   "metadata": {},
   "outputs": [
    {
     "data": {
      "text/plain": [
       "Timestamp('2019-10-30 17:28:30')"
      ]
     },
     "execution_count": 26,
     "metadata": {},
     "output_type": "execute_result"
    }
   ],
   "source": [
    "a=pd.Timestamp('2019-10-30T172830')\n",
    "a"
   ]
  },
  {
   "cell_type": "code",
   "execution_count": 27,
   "metadata": {},
   "outputs": [
    {
     "name": "stdout",
     "output_type": "stream",
     "text": [
      "['__add__', '__class__', '__delattr__', '__dict__', '__dir__', '__doc__', '__eq__', '__format__', '__ge__', '__getattribute__', '__gt__', '__hash__', '__init__', '__init_subclass__', '__le__', '__lt__', '__module__', '__ne__', '__new__', '__pyx_vtable__', '__radd__', '__reduce__', '__reduce_ex__', '__repr__', '__rsub__', '__setattr__', '__setstate__', '__sizeof__', '__str__', '__sub__', '__subclasshook__', '__weakref__', '_date_attributes', '_date_repr', '_get_date_name_field', '_get_start_end_field', '_has_time_component', '_repr_base', '_round', '_short_repr', '_time_repr', 'asm8', 'astimezone', 'ceil', 'combine', 'ctime', 'date', 'day', 'day_name', 'dayofweek', 'dayofyear', 'days_in_month', 'daysinmonth', 'dst', 'floor', 'fold', 'freq', 'freqstr', 'fromisoformat', 'fromordinal', 'fromtimestamp', 'hour', 'is_leap_year', 'is_month_end', 'is_month_start', 'is_quarter_end', 'is_quarter_start', 'is_year_end', 'is_year_start', 'isocalendar', 'isoformat', 'isoweekday', 'max', 'microsecond', 'min', 'minute', 'month', 'month_name', 'nanosecond', 'normalize', 'now', 'quarter', 'replace', 'resolution', 'round', 'second', 'strftime', 'strptime', 'time', 'timestamp', 'timetuple', 'timetz', 'to_datetime64', 'to_julian_date', 'to_period', 'to_pydatetime', 'today', 'toordinal', 'tz', 'tz_convert', 'tz_localize', 'tzinfo', 'tzname', 'utcfromtimestamp', 'utcnow', 'utcoffset', 'utctimetuple', 'value', 'week', 'weekday', 'weekday_name', 'weekofyear', 'year']\n"
     ]
    }
   ],
   "source": [
    "print(dir(a))"
   ]
  },
  {
   "cell_type": "code",
   "execution_count": 28,
   "metadata": {},
   "outputs": [
    {
     "data": {
      "text/plain": [
       "datetime.date(2019, 10, 30)"
      ]
     },
     "execution_count": 28,
     "metadata": {},
     "output_type": "execute_result"
    }
   ],
   "source": [
    "# date是函数 需要带扩号才能输出值\n",
    "# 日期\n",
    "a.date()"
   ]
  },
  {
   "cell_type": "code",
   "execution_count": 29,
   "metadata": {},
   "outputs": [
    {
     "data": {
      "text/plain": [
       "2019"
      ]
     },
     "execution_count": 29,
     "metadata": {},
     "output_type": "execute_result"
    }
   ],
   "source": [
    "# 年\n",
    "a.year"
   ]
  },
  {
   "cell_type": "code",
   "execution_count": 30,
   "metadata": {},
   "outputs": [
    {
     "data": {
      "text/plain": [
       "10"
      ]
     },
     "execution_count": 30,
     "metadata": {},
     "output_type": "execute_result"
    }
   ],
   "source": [
    "# 月\n",
    "a.month"
   ]
  },
  {
   "cell_type": "code",
   "execution_count": 31,
   "metadata": {},
   "outputs": [
    {
     "data": {
      "text/plain": [
       "30"
      ]
     },
     "execution_count": 31,
     "metadata": {},
     "output_type": "execute_result"
    }
   ],
   "source": [
    "# 日\n",
    "a.day"
   ]
  },
  {
   "cell_type": "code",
   "execution_count": 32,
   "metadata": {},
   "outputs": [
    {
     "data": {
      "text/plain": [
       "datetime.time(17, 28, 30)"
      ]
     },
     "execution_count": 32,
     "metadata": {},
     "output_type": "execute_result"
    }
   ],
   "source": [
    "# 时间\n",
    "a.time()"
   ]
  },
  {
   "cell_type": "code",
   "execution_count": 33,
   "metadata": {},
   "outputs": [
    {
     "name": "stdout",
     "output_type": "stream",
     "text": [
      "hour: 17\n",
      "minute: 28\n",
      "second: 30\n"
     ]
    }
   ],
   "source": [
    "print('hour:',a.hour)\n",
    "print('minute:',a.minute)\n",
    "print('second:',a.second)"
   ]
  },
  {
   "cell_type": "code",
   "execution_count": 34,
   "metadata": {},
   "outputs": [
    {
     "data": {
      "text/plain": [
       "'Wednesday'"
      ]
     },
     "execution_count": 34,
     "metadata": {},
     "output_type": "execute_result"
    }
   ],
   "source": [
    "# 调取星期\n",
    "a.day_name()"
   ]
  },
  {
   "cell_type": "markdown",
   "metadata": {},
   "source": [
    "- ### ***dayofweek 默认的星期一为0***"
   ]
  },
  {
   "cell_type": "code",
   "execution_count": 35,
   "metadata": {},
   "outputs": [
    {
     "data": {
      "text/plain": [
       "2"
      ]
     },
     "execution_count": 35,
     "metadata": {},
     "output_type": "execute_result"
    }
   ],
   "source": [
    " #调取星期几\n",
    "a.dayofweek\n",
    "# 星期一为0"
   ]
  },
  {
   "cell_type": "code",
   "execution_count": 36,
   "metadata": {},
   "outputs": [
    {
     "data": {
      "text/plain": [
       "1572456510000000000"
      ]
     },
     "execution_count": 36,
     "metadata": {},
     "output_type": "execute_result"
    }
   ],
   "source": [
    "a.value\n",
    "# a的数值，划分成秒"
   ]
  },
  {
   "cell_type": "code",
   "execution_count": 37,
   "metadata": {},
   "outputs": [
    {
     "data": {
      "text/plain": [
       "1572456510.0"
      ]
     },
     "execution_count": 37,
     "metadata": {},
     "output_type": "execute_result"
    }
   ],
   "source": [
    "# 返回距离的秒数\n",
    "a.timestamp()"
   ]
  },
  {
   "cell_type": "markdown",
   "metadata": {},
   "source": [
    "- **将Timestamp变成指定格式的字符串。**"
   ]
  },
  {
   "cell_type": "code",
   "execution_count": 38,
   "metadata": {},
   "outputs": [
    {
     "data": {
      "text/plain": [
       "'10/30/2019'"
      ]
     },
     "execution_count": 38,
     "metadata": {},
     "output_type": "execute_result"
    }
   ],
   "source": [
    "a.strftime(\"%m/%d/%Y\") "
   ]
  },
  {
   "cell_type": "code",
   "execution_count": 39,
   "metadata": {},
   "outputs": [
    {
     "data": {
      "text/plain": [
       "'Wednesday'"
      ]
     },
     "execution_count": 39,
     "metadata": {},
     "output_type": "execute_result"
    }
   ],
   "source": [
    "a.strftime('%A')\n",
    "# 返回的星期几"
   ]
  },
  {
   "cell_type": "markdown",
   "metadata": {},
   "source": [
    "# 二、时差Timedelta"
   ]
  },
  {
   "cell_type": "markdown",
   "metadata": {},
   "source": [
    "- 两个Timestamp时间相减\n",
    "- 直接生成 运用 Timedelta"
   ]
  },
  {
   "cell_type": "code",
   "execution_count": 40,
   "metadata": {},
   "outputs": [],
   "source": [
    "b=pd.Timestamp('2019/10/30T184845')\n",
    "c=pd.Timestamp('2019/10/31T123034')"
   ]
  },
  {
   "cell_type": "code",
   "execution_count": 41,
   "metadata": {},
   "outputs": [
    {
     "data": {
      "text/plain": [
       "Timestamp('2019-10-30 18:48:45')"
      ]
     },
     "execution_count": 41,
     "metadata": {},
     "output_type": "execute_result"
    }
   ],
   "source": [
    "b"
   ]
  },
  {
   "cell_type": "code",
   "execution_count": 42,
   "metadata": {},
   "outputs": [
    {
     "data": {
      "text/plain": [
       "Timestamp('2019-10-31 12:30:34')"
      ]
     },
     "execution_count": 42,
     "metadata": {},
     "output_type": "execute_result"
    }
   ],
   "source": [
    "c"
   ]
  },
  {
   "cell_type": "code",
   "execution_count": 43,
   "metadata": {},
   "outputs": [
    {
     "data": {
      "text/plain": [
       "Timedelta('0 days 17:41:49')"
      ]
     },
     "execution_count": 43,
     "metadata": {},
     "output_type": "execute_result"
    }
   ],
   "source": [
    "# 时间差\n",
    "c-b"
   ]
  },
  {
   "cell_type": "code",
   "execution_count": 44,
   "metadata": {},
   "outputs": [
    {
     "data": {
      "text/plain": [
       "Timedelta('30 days 10:30:29')"
      ]
     },
     "execution_count": 44,
     "metadata": {},
     "output_type": "execute_result"
    }
   ],
   "source": [
    "# 直接生成时间差\n",
    "d=pd.Timedelta(days=30,hours=10,minutes=30,seconds=29)\n",
    "\n",
    "# allowed keywords are [weeks, days, hours, minutes, \n",
    "#                       seconds, milliseconds, microseconds, \n",
    "#                       nanoseconds]\n",
    "d"
   ]
  },
  {
   "cell_type": "code",
   "execution_count": 45,
   "metadata": {},
   "outputs": [
    {
     "data": {
      "text/plain": [
       "2629829.0"
      ]
     },
     "execution_count": 45,
     "metadata": {},
     "output_type": "execute_result"
    }
   ],
   "source": [
    "d.total_seconds()\n",
    "# 总秒数"
   ]
  },
  {
   "cell_type": "code",
   "execution_count": 46,
   "metadata": {},
   "outputs": [
    {
     "data": {
      "text/plain": [
       "2629829000000000"
      ]
     },
     "execution_count": 46,
     "metadata": {},
     "output_type": "execute_result"
    }
   ],
   "source": [
    "d.delta\n",
    "# 总纳秒数"
   ]
  },
  {
   "cell_type": "code",
   "execution_count": 47,
   "metadata": {},
   "outputs": [
    {
     "data": {
      "text/plain": [
       "Components(days=30, hours=10, minutes=30, seconds=29, milliseconds=0, microseconds=0, nanoseconds=0)"
      ]
     },
     "execution_count": 47,
     "metadata": {},
     "output_type": "execute_result"
    }
   ],
   "source": [
    "# 时间差的组成\n",
    "#属性\n",
    "d.components"
   ]
  },
  {
   "cell_type": "code",
   "execution_count": 48,
   "metadata": {},
   "outputs": [
    {
     "data": {
      "text/plain": [
       "30"
      ]
     },
     "execution_count": 48,
     "metadata": {},
     "output_type": "execute_result"
    }
   ],
   "source": [
    "# 索取时间差组成的个内容\n",
    "d.components.days"
   ]
  },
  {
   "cell_type": "code",
   "execution_count": 49,
   "metadata": {},
   "outputs": [
    {
     "data": {
      "text/plain": [
       "30"
      ]
     },
     "execution_count": 49,
     "metadata": {},
     "output_type": "execute_result"
    }
   ],
   "source": [
    "d.components.minutes"
   ]
  },
  {
   "cell_type": "code",
   "execution_count": 50,
   "metadata": {},
   "outputs": [
    {
     "data": {
      "text/plain": [
       "0"
      ]
     },
     "execution_count": 50,
     "metadata": {},
     "output_type": "execute_result"
    }
   ],
   "source": [
    "# 毫秒\n",
    "d.components.milliseconds"
   ]
  },
  {
   "cell_type": "code",
   "execution_count": 51,
   "metadata": {},
   "outputs": [
    {
     "data": {
      "text/plain": [
       "0"
      ]
     },
     "execution_count": 51,
     "metadata": {},
     "output_type": "execute_result"
    }
   ],
   "source": [
    "# 微秒\n",
    "d.components.microseconds"
   ]
  },
  {
   "cell_type": "code",
   "execution_count": 52,
   "metadata": {},
   "outputs": [
    {
     "data": {
      "text/plain": [
       "0"
      ]
     },
     "execution_count": 52,
     "metadata": {},
     "output_type": "execute_result"
    }
   ],
   "source": [
    "# 纳秒\n",
    "d.components.nanoseconds"
   ]
  },
  {
   "cell_type": "markdown",
   "metadata": {},
   "source": [
    "#### **时间差的运算**"
   ]
  },
  {
   "cell_type": "code",
   "execution_count": 53,
   "metadata": {},
   "outputs": [
    {
     "name": "stdout",
     "output_type": "stream",
     "text": [
      "d: 30 days 10:30:29\n"
     ]
    },
    {
     "data": {
      "text/plain": [
       "Timedelta('40 days 10:30:29')"
      ]
     },
     "execution_count": 53,
     "metadata": {},
     "output_type": "execute_result"
    }
   ],
   "source": [
    "# + 加法运算\n",
    "print('d:',d)\n",
    "d+pd.Timedelta(days=10)"
   ]
  },
  {
   "cell_type": "markdown",
   "metadata": {},
   "source": [
    "## 时间戳范围\n",
    "- date_range"
   ]
  },
  {
   "cell_type": "code",
   "execution_count": 54,
   "metadata": {},
   "outputs": [
    {
     "data": {
      "text/plain": [
       "DatetimeIndex(['2019-10-31', '2019-11-01', '2019-11-02', '2019-11-03',\n",
       "               '2019-11-04', '2019-11-05', '2019-11-06', '2019-11-07',\n",
       "               '2019-11-08', '2019-11-09'],\n",
       "              dtype='datetime64[ns]', freq='D')"
      ]
     },
     "execution_count": 54,
     "metadata": {},
     "output_type": "execute_result"
    }
   ],
   "source": [
    "pd.date_range('2019/10/31',freq='D',periods=10)\n",
    "# 按天计算的\n",
    "#计算10个"
   ]
  },
  {
   "cell_type": "code",
   "execution_count": 55,
   "metadata": {},
   "outputs": [
    {
     "data": {
      "text/plain": [
       "DatetimeIndex(['2019-10-31', '2019-11-30', '2019-12-31', '2020-01-31',\n",
       "               '2020-02-29', '2020-03-31', '2020-04-30', '2020-05-31',\n",
       "               '2020-06-30', '2020-07-31'],\n",
       "              dtype='datetime64[ns]', freq='M')"
      ]
     },
     "execution_count": 55,
     "metadata": {},
     "output_type": "execute_result"
    }
   ],
   "source": [
    "pd.date_range('2019/10/31',freq='m',periods=10)\n",
    "#间隔为月\n",
    "# 计算10个"
   ]
  },
  {
   "cell_type": "code",
   "execution_count": 56,
   "metadata": {},
   "outputs": [
    {
     "data": {
      "text/plain": [
       "DatetimeIndex(['2019-12-31', '2020-12-31', '2021-12-31', '2022-12-31',\n",
       "               '2023-12-31'],\n",
       "              dtype='datetime64[ns]', freq='A-DEC')"
      ]
     },
     "execution_count": 56,
     "metadata": {},
     "output_type": "execute_result"
    }
   ],
   "source": [
    "pd.date_range('2019/10/31',freq='y',periods=5)"
   ]
  },
  {
   "cell_type": "code",
   "execution_count": 57,
   "metadata": {},
   "outputs": [
    {
     "data": {
      "text/plain": [
       "DatetimeIndex(['2019-12-31', '2020-12-31', '2021-12-31', '2022-12-31',\n",
       "               '2023-12-31'],\n",
       "              dtype='datetime64[ns]', freq='A-DEC')"
      ]
     },
     "execution_count": 57,
     "metadata": {},
     "output_type": "execute_result"
    }
   ],
   "source": [
    "e=pd.date_range('2019/10/31',freq='Y',periods=5)\n",
    "e"
   ]
  },
  {
   "cell_type": "code",
   "execution_count": 58,
   "metadata": {},
   "outputs": [
    {
     "data": {
      "text/plain": [
       "Timestamp('2019-12-31 00:00:00', freq='A-DEC')"
      ]
     },
     "execution_count": 58,
     "metadata": {},
     "output_type": "execute_result"
    }
   ],
   "source": [
    "e[0]"
   ]
  },
  {
   "cell_type": "code",
   "execution_count": 59,
   "metadata": {},
   "outputs": [
    {
     "data": {
      "text/plain": [
       "Timestamp('2020-12-31 00:00:00', freq='A-DEC')"
      ]
     },
     "execution_count": 59,
     "metadata": {},
     "output_type": "execute_result"
    }
   ],
   "source": [
    "e[1]"
   ]
  },
  {
   "cell_type": "markdown",
   "metadata": {},
   "source": [
    "# 三、数据框里面对时间变量的操作\n",
    "- 通过导入外部数据的方式获得日期时间变量"
   ]
  },
  {
   "cell_type": "code",
   "execution_count": 60,
   "metadata": {},
   "outputs": [
    {
     "data": {
      "text/html": [
       "<div>\n",
       "<style scoped>\n",
       "    .dataframe tbody tr th:only-of-type {\n",
       "        vertical-align: middle;\n",
       "    }\n",
       "\n",
       "    .dataframe tbody tr th {\n",
       "        vertical-align: top;\n",
       "    }\n",
       "\n",
       "    .dataframe thead th {\n",
       "        text-align: right;\n",
       "    }\n",
       "</style>\n",
       "<table border=\"1\" class=\"dataframe\">\n",
       "  <thead>\n",
       "    <tr style=\"text-align: right;\">\n",
       "      <th></th>\n",
       "      <th>index</th>\n",
       "      <th>date</th>\n",
       "      <th>p</th>\n",
       "    </tr>\n",
       "  </thead>\n",
       "  <tbody>\n",
       "    <tr>\n",
       "      <th>0</th>\n",
       "      <td>上证指数</td>\n",
       "      <td>2003-01-06</td>\n",
       "      <td>1334.68</td>\n",
       "    </tr>\n",
       "    <tr>\n",
       "      <th>1</th>\n",
       "      <td>上证指数</td>\n",
       "      <td>2003-01-07</td>\n",
       "      <td>1332.06</td>\n",
       "    </tr>\n",
       "    <tr>\n",
       "      <th>2</th>\n",
       "      <td>上证指数</td>\n",
       "      <td>2003-01-08</td>\n",
       "      <td>1372.07</td>\n",
       "    </tr>\n",
       "    <tr>\n",
       "      <th>3</th>\n",
       "      <td>上证指数</td>\n",
       "      <td>2003-01-09</td>\n",
       "      <td>1397.38</td>\n",
       "    </tr>\n",
       "    <tr>\n",
       "      <th>4</th>\n",
       "      <td>上证指数</td>\n",
       "      <td>2003-01-10</td>\n",
       "      <td>1384.86</td>\n",
       "    </tr>\n",
       "  </tbody>\n",
       "</table>\n",
       "</div>"
      ],
      "text/plain": [
       "  index       date        p\n",
       "0  上证指数 2003-01-06  1334.68\n",
       "1  上证指数 2003-01-07  1332.06\n",
       "2  上证指数 2003-01-08  1372.07\n",
       "3  上证指数 2003-01-09  1397.38\n",
       "4  上证指数 2003-01-10  1384.86"
      ]
     },
     "execution_count": 60,
     "metadata": {},
     "output_type": "execute_result"
    }
   ],
   "source": [
    "t=pd.read_excel('E:\\python 资料\\python 数据清洗（numpy、pandas、数据可视化）\\pandas\\上证指数日收盘价数据.xls')\n",
    "t.head()"
   ]
  },
  {
   "cell_type": "code",
   "execution_count": 61,
   "metadata": {},
   "outputs": [
    {
     "name": "stdout",
     "output_type": "stream",
     "text": [
      "<class 'pandas.core.frame.DataFrame'>\n",
      "RangeIndex: 1569 entries, 0 to 1568\n",
      "Data columns (total 3 columns):\n",
      "index    1569 non-null object\n",
      "date     1569 non-null datetime64[ns]\n",
      "p        1569 non-null float64\n",
      "dtypes: datetime64[ns](1), float64(1), object(1)\n",
      "memory usage: 36.9+ KB\n"
     ]
    }
   ],
   "source": [
    "t.info()"
   ]
  },
  {
   "cell_type": "code",
   "execution_count": 62,
   "metadata": {},
   "outputs": [],
   "source": [
    "#将index删掉\n",
    "t.drop(['index'],axis=1,inplace=True)"
   ]
  },
  {
   "cell_type": "code",
   "execution_count": 63,
   "metadata": {},
   "outputs": [
    {
     "data": {
      "text/html": [
       "<div>\n",
       "<style scoped>\n",
       "    .dataframe tbody tr th:only-of-type {\n",
       "        vertical-align: middle;\n",
       "    }\n",
       "\n",
       "    .dataframe tbody tr th {\n",
       "        vertical-align: top;\n",
       "    }\n",
       "\n",
       "    .dataframe thead th {\n",
       "        text-align: right;\n",
       "    }\n",
       "</style>\n",
       "<table border=\"1\" class=\"dataframe\">\n",
       "  <thead>\n",
       "    <tr style=\"text-align: right;\">\n",
       "      <th></th>\n",
       "      <th>date</th>\n",
       "      <th>p</th>\n",
       "    </tr>\n",
       "  </thead>\n",
       "  <tbody>\n",
       "    <tr>\n",
       "      <th>0</th>\n",
       "      <td>2003-01-06</td>\n",
       "      <td>1334.68</td>\n",
       "    </tr>\n",
       "    <tr>\n",
       "      <th>1</th>\n",
       "      <td>2003-01-07</td>\n",
       "      <td>1332.06</td>\n",
       "    </tr>\n",
       "    <tr>\n",
       "      <th>2</th>\n",
       "      <td>2003-01-08</td>\n",
       "      <td>1372.07</td>\n",
       "    </tr>\n",
       "    <tr>\n",
       "      <th>3</th>\n",
       "      <td>2003-01-09</td>\n",
       "      <td>1397.38</td>\n",
       "    </tr>\n",
       "    <tr>\n",
       "      <th>4</th>\n",
       "      <td>2003-01-10</td>\n",
       "      <td>1384.86</td>\n",
       "    </tr>\n",
       "  </tbody>\n",
       "</table>\n",
       "</div>"
      ],
      "text/plain": [
       "        date        p\n",
       "0 2003-01-06  1334.68\n",
       "1 2003-01-07  1332.06\n",
       "2 2003-01-08  1372.07\n",
       "3 2003-01-09  1397.38\n",
       "4 2003-01-10  1384.86"
      ]
     },
     "execution_count": 63,
     "metadata": {},
     "output_type": "execute_result"
    }
   ],
   "source": [
    "t.head()"
   ]
  },
  {
   "cell_type": "markdown",
   "metadata": {},
   "source": [
    "# 1.日期时间变量转变\n",
    "- 距离纪元的总秒数\n",
    "- 指定格式的字符串变量\n",
    "    - 直接的方式 \n",
    "        - t.date.dt.strtime()\n",
    "    - map与lambda的搭配\n",
    "        - t.date.map(lambda x:x.strftime()\n",
    "        - t['date'].map(lambda x:x.strftime()"
   ]
  },
  {
   "cell_type": "code",
   "execution_count": 64,
   "metadata": {},
   "outputs": [],
   "source": [
    "t['all seconds']=t['date'].map(lambda x:x.timestamp())\n",
    "# 距离纪元的总秒数"
   ]
  },
  {
   "cell_type": "code",
   "execution_count": 65,
   "metadata": {},
   "outputs": [
    {
     "data": {
      "text/html": [
       "<div>\n",
       "<style scoped>\n",
       "    .dataframe tbody tr th:only-of-type {\n",
       "        vertical-align: middle;\n",
       "    }\n",
       "\n",
       "    .dataframe tbody tr th {\n",
       "        vertical-align: top;\n",
       "    }\n",
       "\n",
       "    .dataframe thead th {\n",
       "        text-align: right;\n",
       "    }\n",
       "</style>\n",
       "<table border=\"1\" class=\"dataframe\">\n",
       "  <thead>\n",
       "    <tr style=\"text-align: right;\">\n",
       "      <th></th>\n",
       "      <th>date</th>\n",
       "      <th>p</th>\n",
       "      <th>all seconds</th>\n",
       "    </tr>\n",
       "  </thead>\n",
       "  <tbody>\n",
       "    <tr>\n",
       "      <th>0</th>\n",
       "      <td>2003-01-06</td>\n",
       "      <td>1334.68</td>\n",
       "      <td>1.041811e+09</td>\n",
       "    </tr>\n",
       "    <tr>\n",
       "      <th>1</th>\n",
       "      <td>2003-01-07</td>\n",
       "      <td>1332.06</td>\n",
       "      <td>1.041898e+09</td>\n",
       "    </tr>\n",
       "    <tr>\n",
       "      <th>2</th>\n",
       "      <td>2003-01-08</td>\n",
       "      <td>1372.07</td>\n",
       "      <td>1.041984e+09</td>\n",
       "    </tr>\n",
       "    <tr>\n",
       "      <th>3</th>\n",
       "      <td>2003-01-09</td>\n",
       "      <td>1397.38</td>\n",
       "      <td>1.042070e+09</td>\n",
       "    </tr>\n",
       "    <tr>\n",
       "      <th>4</th>\n",
       "      <td>2003-01-10</td>\n",
       "      <td>1384.86</td>\n",
       "      <td>1.042157e+09</td>\n",
       "    </tr>\n",
       "  </tbody>\n",
       "</table>\n",
       "</div>"
      ],
      "text/plain": [
       "        date        p   all seconds\n",
       "0 2003-01-06  1334.68  1.041811e+09\n",
       "1 2003-01-07  1332.06  1.041898e+09\n",
       "2 2003-01-08  1372.07  1.041984e+09\n",
       "3 2003-01-09  1397.38  1.042070e+09\n",
       "4 2003-01-10  1384.86  1.042157e+09"
      ]
     },
     "execution_count": 65,
     "metadata": {},
     "output_type": "execute_result"
    }
   ],
   "source": [
    "t.head()"
   ]
  },
  {
   "cell_type": "code",
   "execution_count": 66,
   "metadata": {},
   "outputs": [],
   "source": [
    "# 转化成指定的格式\n",
    "t['//']=t.date.map(lambda x:x.strftime('%Y/%m/%d'))"
   ]
  },
  {
   "cell_type": "code",
   "execution_count": 67,
   "metadata": {},
   "outputs": [
    {
     "data": {
      "text/html": [
       "<div>\n",
       "<style scoped>\n",
       "    .dataframe tbody tr th:only-of-type {\n",
       "        vertical-align: middle;\n",
       "    }\n",
       "\n",
       "    .dataframe tbody tr th {\n",
       "        vertical-align: top;\n",
       "    }\n",
       "\n",
       "    .dataframe thead th {\n",
       "        text-align: right;\n",
       "    }\n",
       "</style>\n",
       "<table border=\"1\" class=\"dataframe\">\n",
       "  <thead>\n",
       "    <tr style=\"text-align: right;\">\n",
       "      <th></th>\n",
       "      <th>date</th>\n",
       "      <th>p</th>\n",
       "      <th>all seconds</th>\n",
       "      <th>//</th>\n",
       "    </tr>\n",
       "  </thead>\n",
       "  <tbody>\n",
       "    <tr>\n",
       "      <th>0</th>\n",
       "      <td>2003-01-06</td>\n",
       "      <td>1334.68</td>\n",
       "      <td>1.041811e+09</td>\n",
       "      <td>2003/01/06</td>\n",
       "    </tr>\n",
       "    <tr>\n",
       "      <th>1</th>\n",
       "      <td>2003-01-07</td>\n",
       "      <td>1332.06</td>\n",
       "      <td>1.041898e+09</td>\n",
       "      <td>2003/01/07</td>\n",
       "    </tr>\n",
       "    <tr>\n",
       "      <th>2</th>\n",
       "      <td>2003-01-08</td>\n",
       "      <td>1372.07</td>\n",
       "      <td>1.041984e+09</td>\n",
       "      <td>2003/01/08</td>\n",
       "    </tr>\n",
       "    <tr>\n",
       "      <th>3</th>\n",
       "      <td>2003-01-09</td>\n",
       "      <td>1397.38</td>\n",
       "      <td>1.042070e+09</td>\n",
       "      <td>2003/01/09</td>\n",
       "    </tr>\n",
       "    <tr>\n",
       "      <th>4</th>\n",
       "      <td>2003-01-10</td>\n",
       "      <td>1384.86</td>\n",
       "      <td>1.042157e+09</td>\n",
       "      <td>2003/01/10</td>\n",
       "    </tr>\n",
       "  </tbody>\n",
       "</table>\n",
       "</div>"
      ],
      "text/plain": [
       "        date        p   all seconds          //\n",
       "0 2003-01-06  1334.68  1.041811e+09  2003/01/06\n",
       "1 2003-01-07  1332.06  1.041898e+09  2003/01/07\n",
       "2 2003-01-08  1372.07  1.041984e+09  2003/01/08\n",
       "3 2003-01-09  1397.38  1.042070e+09  2003/01/09\n",
       "4 2003-01-10  1384.86  1.042157e+09  2003/01/10"
      ]
     },
     "execution_count": 67,
     "metadata": {},
     "output_type": "execute_result"
    }
   ],
   "source": [
    "t.head()"
   ]
  },
  {
   "cell_type": "code",
   "execution_count": 68,
   "metadata": {},
   "outputs": [
    {
     "data": {
      "text/html": [
       "<div>\n",
       "<style scoped>\n",
       "    .dataframe tbody tr th:only-of-type {\n",
       "        vertical-align: middle;\n",
       "    }\n",
       "\n",
       "    .dataframe tbody tr th {\n",
       "        vertical-align: top;\n",
       "    }\n",
       "\n",
       "    .dataframe thead th {\n",
       "        text-align: right;\n",
       "    }\n",
       "</style>\n",
       "<table border=\"1\" class=\"dataframe\">\n",
       "  <thead>\n",
       "    <tr style=\"text-align: right;\">\n",
       "      <th></th>\n",
       "      <th>date</th>\n",
       "      <th>p</th>\n",
       "      <th>all seconds</th>\n",
       "      <th>//</th>\n",
       "      <th>straight</th>\n",
       "    </tr>\n",
       "  </thead>\n",
       "  <tbody>\n",
       "    <tr>\n",
       "      <th>0</th>\n",
       "      <td>2003-01-06</td>\n",
       "      <td>1334.68</td>\n",
       "      <td>1.041811e+09</td>\n",
       "      <td>2003/01/06</td>\n",
       "      <td>2003/01/06</td>\n",
       "    </tr>\n",
       "    <tr>\n",
       "      <th>1</th>\n",
       "      <td>2003-01-07</td>\n",
       "      <td>1332.06</td>\n",
       "      <td>1.041898e+09</td>\n",
       "      <td>2003/01/07</td>\n",
       "      <td>2003/01/07</td>\n",
       "    </tr>\n",
       "    <tr>\n",
       "      <th>2</th>\n",
       "      <td>2003-01-08</td>\n",
       "      <td>1372.07</td>\n",
       "      <td>1.041984e+09</td>\n",
       "      <td>2003/01/08</td>\n",
       "      <td>2003/01/08</td>\n",
       "    </tr>\n",
       "    <tr>\n",
       "      <th>3</th>\n",
       "      <td>2003-01-09</td>\n",
       "      <td>1397.38</td>\n",
       "      <td>1.042070e+09</td>\n",
       "      <td>2003/01/09</td>\n",
       "      <td>2003/01/09</td>\n",
       "    </tr>\n",
       "    <tr>\n",
       "      <th>4</th>\n",
       "      <td>2003-01-10</td>\n",
       "      <td>1384.86</td>\n",
       "      <td>1.042157e+09</td>\n",
       "      <td>2003/01/10</td>\n",
       "      <td>2003/01/10</td>\n",
       "    </tr>\n",
       "  </tbody>\n",
       "</table>\n",
       "</div>"
      ],
      "text/plain": [
       "        date        p   all seconds          //    straight\n",
       "0 2003-01-06  1334.68  1.041811e+09  2003/01/06  2003/01/06\n",
       "1 2003-01-07  1332.06  1.041898e+09  2003/01/07  2003/01/07\n",
       "2 2003-01-08  1372.07  1.041984e+09  2003/01/08  2003/01/08\n",
       "3 2003-01-09  1397.38  1.042070e+09  2003/01/09  2003/01/09\n",
       "4 2003-01-10  1384.86  1.042157e+09  2003/01/10  2003/01/10"
      ]
     },
     "execution_count": 68,
     "metadata": {},
     "output_type": "execute_result"
    }
   ],
   "source": [
    "# 直接转变\n",
    "t['straight']=t.date.dt.strftime('%Y/%m/%d')\n",
    "t.head()"
   ]
  },
  {
   "cell_type": "markdown",
   "metadata": {},
   "source": [
    "# 2.调用日期时间变量的各元素\n",
    "- 方式一\n",
    "    - t.date.dt.year\n",
    "    - t.date.dt.month\n",
    "    - t.date.dt.day\n",
    "    - t.date.dt.dayofweek\n",
    "- 方式二  map与lambda的搭配\n",
    "     - t['date'].map(lambda x:x.date)\n",
    "     - t['date'].map(lambda x:x.time)\n",
    "     - t['date'].map(lambda x:x.year)\n",
    "     - t['date'].map(lambda x:x.month)\n",
    "     - t['date'].map(lambda x:x.day)     "
   ]
  },
  {
   "cell_type": "code",
   "execution_count": 69,
   "metadata": {},
   "outputs": [],
   "source": [
    "#年\n",
    "t['year']=t['date'].dt.year\n",
    "# 月\n",
    "t['month']=t['date'].dt.month\n",
    "# 天\n",
    "t['day']=t['date'].dt.day\n",
    "# dayofweek 星期 默认星期一为0\n",
    "t['dayofweek+1']=t['date'].dt.dayofweek+1"
   ]
  },
  {
   "cell_type": "code",
   "execution_count": 70,
   "metadata": {},
   "outputs": [
    {
     "data": {
      "text/html": [
       "<div>\n",
       "<style scoped>\n",
       "    .dataframe tbody tr th:only-of-type {\n",
       "        vertical-align: middle;\n",
       "    }\n",
       "\n",
       "    .dataframe tbody tr th {\n",
       "        vertical-align: top;\n",
       "    }\n",
       "\n",
       "    .dataframe thead th {\n",
       "        text-align: right;\n",
       "    }\n",
       "</style>\n",
       "<table border=\"1\" class=\"dataframe\">\n",
       "  <thead>\n",
       "    <tr style=\"text-align: right;\">\n",
       "      <th></th>\n",
       "      <th>date</th>\n",
       "      <th>p</th>\n",
       "      <th>all seconds</th>\n",
       "      <th>//</th>\n",
       "      <th>straight</th>\n",
       "      <th>year</th>\n",
       "      <th>month</th>\n",
       "      <th>day</th>\n",
       "      <th>dayofweek+1</th>\n",
       "    </tr>\n",
       "  </thead>\n",
       "  <tbody>\n",
       "    <tr>\n",
       "      <th>0</th>\n",
       "      <td>2003-01-06</td>\n",
       "      <td>1334.68</td>\n",
       "      <td>1.041811e+09</td>\n",
       "      <td>2003/01/06</td>\n",
       "      <td>2003/01/06</td>\n",
       "      <td>2003</td>\n",
       "      <td>1</td>\n",
       "      <td>6</td>\n",
       "      <td>1</td>\n",
       "    </tr>\n",
       "    <tr>\n",
       "      <th>1</th>\n",
       "      <td>2003-01-07</td>\n",
       "      <td>1332.06</td>\n",
       "      <td>1.041898e+09</td>\n",
       "      <td>2003/01/07</td>\n",
       "      <td>2003/01/07</td>\n",
       "      <td>2003</td>\n",
       "      <td>1</td>\n",
       "      <td>7</td>\n",
       "      <td>2</td>\n",
       "    </tr>\n",
       "    <tr>\n",
       "      <th>2</th>\n",
       "      <td>2003-01-08</td>\n",
       "      <td>1372.07</td>\n",
       "      <td>1.041984e+09</td>\n",
       "      <td>2003/01/08</td>\n",
       "      <td>2003/01/08</td>\n",
       "      <td>2003</td>\n",
       "      <td>1</td>\n",
       "      <td>8</td>\n",
       "      <td>3</td>\n",
       "    </tr>\n",
       "    <tr>\n",
       "      <th>3</th>\n",
       "      <td>2003-01-09</td>\n",
       "      <td>1397.38</td>\n",
       "      <td>1.042070e+09</td>\n",
       "      <td>2003/01/09</td>\n",
       "      <td>2003/01/09</td>\n",
       "      <td>2003</td>\n",
       "      <td>1</td>\n",
       "      <td>9</td>\n",
       "      <td>4</td>\n",
       "    </tr>\n",
       "    <tr>\n",
       "      <th>4</th>\n",
       "      <td>2003-01-10</td>\n",
       "      <td>1384.86</td>\n",
       "      <td>1.042157e+09</td>\n",
       "      <td>2003/01/10</td>\n",
       "      <td>2003/01/10</td>\n",
       "      <td>2003</td>\n",
       "      <td>1</td>\n",
       "      <td>10</td>\n",
       "      <td>5</td>\n",
       "    </tr>\n",
       "  </tbody>\n",
       "</table>\n",
       "</div>"
      ],
      "text/plain": [
       "        date        p   all seconds          //    straight  year  month  day  \\\n",
       "0 2003-01-06  1334.68  1.041811e+09  2003/01/06  2003/01/06  2003      1    6   \n",
       "1 2003-01-07  1332.06  1.041898e+09  2003/01/07  2003/01/07  2003      1    7   \n",
       "2 2003-01-08  1372.07  1.041984e+09  2003/01/08  2003/01/08  2003      1    8   \n",
       "3 2003-01-09  1397.38  1.042070e+09  2003/01/09  2003/01/09  2003      1    9   \n",
       "4 2003-01-10  1384.86  1.042157e+09  2003/01/10  2003/01/10  2003      1   10   \n",
       "\n",
       "   dayofweek+1  \n",
       "0            1  \n",
       "1            2  \n",
       "2            3  \n",
       "3            4  \n",
       "4            5  "
      ]
     },
     "execution_count": 70,
     "metadata": {},
     "output_type": "execute_result"
    }
   ],
   "source": [
    "t.head()"
   ]
  },
  {
   "cell_type": "code",
   "execution_count": 71,
   "metadata": {},
   "outputs": [],
   "source": [
    "# #方法2\n",
    "# data1[\"year\"]=data1[\"date\"].map(lambda x:x.year) #把年调出来是一个int类型\n",
    "# data1[\"month\"]=data1[\"date\"].map(lambda x:x.month) #把月调出来是一个int类型\n",
    "# data1[\"day\"]=data1[\"date\"].map(lambda x:x.day) #把日调出来是一个int类型\n",
    "# data1[\"date\"].map(lambda x:x.date()) #把时间调出来,是一个object类型\n",
    "# data1[\"date\"].map(lambda x:x.time()) #把时间调出来,是一个object类型"
   ]
  },
  {
   "cell_type": "markdown",
   "metadata": {},
   "source": [
    "# 3.年月日中取出年月\n",
    " - dt.to_period(freq='')"
   ]
  },
  {
   "cell_type": "code",
   "execution_count": 72,
   "metadata": {},
   "outputs": [],
   "source": [
    "# help(t.date.dt.to_period)\n",
    "# t.date.dt.to_period?\n",
    "# np.info(t.date.dt.to_period)"
   ]
  },
  {
   "cell_type": "code",
   "execution_count": 73,
   "metadata": {},
   "outputs": [],
   "source": [
    "# 取出年月\n",
    "t['ym']=t.date.dt.to_period(freq='m')"
   ]
  },
  {
   "cell_type": "code",
   "execution_count": 74,
   "metadata": {},
   "outputs": [
    {
     "data": {
      "text/html": [
       "<div>\n",
       "<style scoped>\n",
       "    .dataframe tbody tr th:only-of-type {\n",
       "        vertical-align: middle;\n",
       "    }\n",
       "\n",
       "    .dataframe tbody tr th {\n",
       "        vertical-align: top;\n",
       "    }\n",
       "\n",
       "    .dataframe thead th {\n",
       "        text-align: right;\n",
       "    }\n",
       "</style>\n",
       "<table border=\"1\" class=\"dataframe\">\n",
       "  <thead>\n",
       "    <tr style=\"text-align: right;\">\n",
       "      <th></th>\n",
       "      <th>date</th>\n",
       "      <th>p</th>\n",
       "      <th>all seconds</th>\n",
       "      <th>//</th>\n",
       "      <th>straight</th>\n",
       "      <th>year</th>\n",
       "      <th>month</th>\n",
       "      <th>day</th>\n",
       "      <th>dayofweek+1</th>\n",
       "      <th>ym</th>\n",
       "    </tr>\n",
       "  </thead>\n",
       "  <tbody>\n",
       "    <tr>\n",
       "      <th>0</th>\n",
       "      <td>2003-01-06</td>\n",
       "      <td>1334.68</td>\n",
       "      <td>1.041811e+09</td>\n",
       "      <td>2003/01/06</td>\n",
       "      <td>2003/01/06</td>\n",
       "      <td>2003</td>\n",
       "      <td>1</td>\n",
       "      <td>6</td>\n",
       "      <td>1</td>\n",
       "      <td>2003-01</td>\n",
       "    </tr>\n",
       "    <tr>\n",
       "      <th>1</th>\n",
       "      <td>2003-01-07</td>\n",
       "      <td>1332.06</td>\n",
       "      <td>1.041898e+09</td>\n",
       "      <td>2003/01/07</td>\n",
       "      <td>2003/01/07</td>\n",
       "      <td>2003</td>\n",
       "      <td>1</td>\n",
       "      <td>7</td>\n",
       "      <td>2</td>\n",
       "      <td>2003-01</td>\n",
       "    </tr>\n",
       "    <tr>\n",
       "      <th>2</th>\n",
       "      <td>2003-01-08</td>\n",
       "      <td>1372.07</td>\n",
       "      <td>1.041984e+09</td>\n",
       "      <td>2003/01/08</td>\n",
       "      <td>2003/01/08</td>\n",
       "      <td>2003</td>\n",
       "      <td>1</td>\n",
       "      <td>8</td>\n",
       "      <td>3</td>\n",
       "      <td>2003-01</td>\n",
       "    </tr>\n",
       "    <tr>\n",
       "      <th>3</th>\n",
       "      <td>2003-01-09</td>\n",
       "      <td>1397.38</td>\n",
       "      <td>1.042070e+09</td>\n",
       "      <td>2003/01/09</td>\n",
       "      <td>2003/01/09</td>\n",
       "      <td>2003</td>\n",
       "      <td>1</td>\n",
       "      <td>9</td>\n",
       "      <td>4</td>\n",
       "      <td>2003-01</td>\n",
       "    </tr>\n",
       "    <tr>\n",
       "      <th>4</th>\n",
       "      <td>2003-01-10</td>\n",
       "      <td>1384.86</td>\n",
       "      <td>1.042157e+09</td>\n",
       "      <td>2003/01/10</td>\n",
       "      <td>2003/01/10</td>\n",
       "      <td>2003</td>\n",
       "      <td>1</td>\n",
       "      <td>10</td>\n",
       "      <td>5</td>\n",
       "      <td>2003-01</td>\n",
       "    </tr>\n",
       "  </tbody>\n",
       "</table>\n",
       "</div>"
      ],
      "text/plain": [
       "        date        p   all seconds          //    straight  year  month  day  \\\n",
       "0 2003-01-06  1334.68  1.041811e+09  2003/01/06  2003/01/06  2003      1    6   \n",
       "1 2003-01-07  1332.06  1.041898e+09  2003/01/07  2003/01/07  2003      1    7   \n",
       "2 2003-01-08  1372.07  1.041984e+09  2003/01/08  2003/01/08  2003      1    8   \n",
       "3 2003-01-09  1397.38  1.042070e+09  2003/01/09  2003/01/09  2003      1    9   \n",
       "4 2003-01-10  1384.86  1.042157e+09  2003/01/10  2003/01/10  2003      1   10   \n",
       "\n",
       "   dayofweek+1       ym  \n",
       "0            1  2003-01  \n",
       "1            2  2003-01  \n",
       "2            3  2003-01  \n",
       "3            4  2003-01  \n",
       "4            5  2003-01  "
      ]
     },
     "execution_count": 74,
     "metadata": {},
     "output_type": "execute_result"
    }
   ],
   "source": [
    "t.head()"
   ]
  },
  {
   "cell_type": "markdown",
   "metadata": {},
   "source": [
    "# 4.多个元素合成一个日期时间变量  apply与lambda的搭配\n",
    "- apply(lambda  x:pd.Timestamp(x['year'],x['month'],x['day']),axis=1)"
   ]
  },
  {
   "cell_type": "markdown",
   "metadata": {},
   "source": [
    "### **map搭配lambda与apply 搭配lambda的区别**\n",
    "\n",
    "- map() 函数\n",
    "    - 可以将一个函数映射到一个类型上面\n",
    "    - 针对数据框的某一列\n",
    "- apply()函数\n",
    "    - pandas 库中的DataFrame数据框\n",
    "    - 针对整个数据应用"
   ]
  },
  {
   "cell_type": "code",
   "execution_count": 75,
   "metadata": {},
   "outputs": [],
   "source": [
    "t['date1']=t.apply(lambda x:pd.Timestamp(x['year'],x['month'],\n",
    "                                         x['day']),axis=1)"
   ]
  },
  {
   "cell_type": "code",
   "execution_count": 76,
   "metadata": {},
   "outputs": [
    {
     "data": {
      "text/html": [
       "<div>\n",
       "<style scoped>\n",
       "    .dataframe tbody tr th:only-of-type {\n",
       "        vertical-align: middle;\n",
       "    }\n",
       "\n",
       "    .dataframe tbody tr th {\n",
       "        vertical-align: top;\n",
       "    }\n",
       "\n",
       "    .dataframe thead th {\n",
       "        text-align: right;\n",
       "    }\n",
       "</style>\n",
       "<table border=\"1\" class=\"dataframe\">\n",
       "  <thead>\n",
       "    <tr style=\"text-align: right;\">\n",
       "      <th></th>\n",
       "      <th>date</th>\n",
       "      <th>p</th>\n",
       "      <th>all seconds</th>\n",
       "      <th>//</th>\n",
       "      <th>straight</th>\n",
       "      <th>year</th>\n",
       "      <th>month</th>\n",
       "      <th>day</th>\n",
       "      <th>dayofweek+1</th>\n",
       "      <th>ym</th>\n",
       "      <th>date1</th>\n",
       "    </tr>\n",
       "  </thead>\n",
       "  <tbody>\n",
       "    <tr>\n",
       "      <th>0</th>\n",
       "      <td>2003-01-06</td>\n",
       "      <td>1334.68</td>\n",
       "      <td>1.041811e+09</td>\n",
       "      <td>2003/01/06</td>\n",
       "      <td>2003/01/06</td>\n",
       "      <td>2003</td>\n",
       "      <td>1</td>\n",
       "      <td>6</td>\n",
       "      <td>1</td>\n",
       "      <td>2003-01</td>\n",
       "      <td>2003-01-06</td>\n",
       "    </tr>\n",
       "    <tr>\n",
       "      <th>1</th>\n",
       "      <td>2003-01-07</td>\n",
       "      <td>1332.06</td>\n",
       "      <td>1.041898e+09</td>\n",
       "      <td>2003/01/07</td>\n",
       "      <td>2003/01/07</td>\n",
       "      <td>2003</td>\n",
       "      <td>1</td>\n",
       "      <td>7</td>\n",
       "      <td>2</td>\n",
       "      <td>2003-01</td>\n",
       "      <td>2003-01-07</td>\n",
       "    </tr>\n",
       "    <tr>\n",
       "      <th>2</th>\n",
       "      <td>2003-01-08</td>\n",
       "      <td>1372.07</td>\n",
       "      <td>1.041984e+09</td>\n",
       "      <td>2003/01/08</td>\n",
       "      <td>2003/01/08</td>\n",
       "      <td>2003</td>\n",
       "      <td>1</td>\n",
       "      <td>8</td>\n",
       "      <td>3</td>\n",
       "      <td>2003-01</td>\n",
       "      <td>2003-01-08</td>\n",
       "    </tr>\n",
       "  </tbody>\n",
       "</table>\n",
       "</div>"
      ],
      "text/plain": [
       "        date        p   all seconds          //    straight  year  month  day  \\\n",
       "0 2003-01-06  1334.68  1.041811e+09  2003/01/06  2003/01/06  2003      1    6   \n",
       "1 2003-01-07  1332.06  1.041898e+09  2003/01/07  2003/01/07  2003      1    7   \n",
       "2 2003-01-08  1372.07  1.041984e+09  2003/01/08  2003/01/08  2003      1    8   \n",
       "\n",
       "   dayofweek+1       ym      date1  \n",
       "0            1  2003-01 2003-01-06  \n",
       "1            2  2003-01 2003-01-07  \n",
       "2            3  2003-01 2003-01-08  "
      ]
     },
     "execution_count": 76,
     "metadata": {},
     "output_type": "execute_result"
    }
   ],
   "source": [
    "t.head(3)"
   ]
  },
  {
   "cell_type": "markdown",
   "metadata": {},
   "source": [
    "# 5.其他形式转化成日期 pd.to_datetime\n",
    "- 字符串转变成日期   \n",
    "- 数值转变成日期"
   ]
  },
  {
   "cell_type": "code",
   "execution_count": 77,
   "metadata": {},
   "outputs": [
    {
     "name": "stdout",
     "output_type": "stream",
     "text": [
      "<class 'pandas.core.frame.DataFrame'>\n",
      "RangeIndex: 1569 entries, 0 to 1568\n",
      "Data columns (total 11 columns):\n",
      "date           1569 non-null datetime64[ns]\n",
      "p              1569 non-null float64\n",
      "all seconds    1569 non-null float64\n",
      "//             1569 non-null object\n",
      "straight       1569 non-null object\n",
      "year           1569 non-null int64\n",
      "month          1569 non-null int64\n",
      "day            1569 non-null int64\n",
      "dayofweek+1    1569 non-null int64\n",
      "ym             1569 non-null period[M]\n",
      "date1          1569 non-null datetime64[ns]\n",
      "dtypes: datetime64[ns](2), float64(2), int64(4), object(2), period[M](1)\n",
      "memory usage: 134.9+ KB\n"
     ]
    }
   ],
   "source": [
    "t.info()"
   ]
  },
  {
   "cell_type": "markdown",
   "metadata": {},
   "source": [
    "字符串转化成日期"
   ]
  },
  {
   "cell_type": "code",
   "execution_count": 78,
   "metadata": {},
   "outputs": [
    {
     "data": {
      "text/plain": [
       "0      2003-01-06\n",
       "1      2003-01-07\n",
       "2      2003-01-08\n",
       "3      2003-01-09\n",
       "4      2003-01-10\n",
       "5      2003-01-13\n",
       "6      2003-01-14\n",
       "7      2003-01-15\n",
       "8      2003-01-16\n",
       "9      2003-01-17\n",
       "10     2003-01-20\n",
       "11     2003-01-21\n",
       "12     2003-01-22\n",
       "13     2003-01-23\n",
       "14     2003-01-24\n",
       "15     2003-01-27\n",
       "16     2003-01-28\n",
       "17     2003-01-29\n",
       "18     2003-02-10\n",
       "19     2003-02-11\n",
       "20     2003-02-12\n",
       "21     2003-02-13\n",
       "22     2003-02-14\n",
       "23     2003-02-17\n",
       "24     2003-02-18\n",
       "25     2003-02-19\n",
       "26     2003-02-20\n",
       "27     2003-02-21\n",
       "28     2003-02-24\n",
       "29     2003-02-25\n",
       "          ...    \n",
       "1539   2009-05-14\n",
       "1540   2009-05-15\n",
       "1541   2009-05-18\n",
       "1542   2009-05-19\n",
       "1543   2009-05-20\n",
       "1544   2009-05-21\n",
       "1545   2009-05-22\n",
       "1546   2009-05-25\n",
       "1547   2009-05-26\n",
       "1548   2009-05-27\n",
       "1549   2009-06-01\n",
       "1550   2009-06-02\n",
       "1551   2009-06-03\n",
       "1552   2009-06-04\n",
       "1553   2009-06-05\n",
       "1554   2009-06-08\n",
       "1555   2009-06-09\n",
       "1556   2009-06-10\n",
       "1557   2009-06-11\n",
       "1558   2009-06-12\n",
       "1559   2009-06-15\n",
       "1560   2009-06-16\n",
       "1561   2009-06-17\n",
       "1562   2009-06-18\n",
       "1563   2009-06-19\n",
       "1564   2009-06-22\n",
       "1565   2009-06-23\n",
       "1566   2009-06-24\n",
       "1567   2009-06-25\n",
       "1568   2009-06-26\n",
       "Name: date1, Length: 1569, dtype: datetime64[ns]"
      ]
     },
     "execution_count": 78,
     "metadata": {},
     "output_type": "execute_result"
    }
   ],
   "source": [
    "# 方法一\n",
    "pd.to_datetime(t['date1'],format='%m/%d/%y',errors='coerce')"
   ]
  },
  {
   "cell_type": "code",
   "execution_count": 79,
   "metadata": {},
   "outputs": [
    {
     "data": {
      "text/plain": [
       "0      2003-01-06\n",
       "1      2003-01-07\n",
       "2      2003-01-08\n",
       "3      2003-01-09\n",
       "4      2003-01-10\n",
       "5      2003-01-13\n",
       "6      2003-01-14\n",
       "7      2003-01-15\n",
       "8      2003-01-16\n",
       "9      2003-01-17\n",
       "10     2003-01-20\n",
       "11     2003-01-21\n",
       "12     2003-01-22\n",
       "13     2003-01-23\n",
       "14     2003-01-24\n",
       "15     2003-01-27\n",
       "16     2003-01-28\n",
       "17     2003-01-29\n",
       "18     2003-02-10\n",
       "19     2003-02-11\n",
       "20     2003-02-12\n",
       "21     2003-02-13\n",
       "22     2003-02-14\n",
       "23     2003-02-17\n",
       "24     2003-02-18\n",
       "25     2003-02-19\n",
       "26     2003-02-20\n",
       "27     2003-02-21\n",
       "28     2003-02-24\n",
       "29     2003-02-25\n",
       "          ...    \n",
       "1539   2009-05-14\n",
       "1540   2009-05-15\n",
       "1541   2009-05-18\n",
       "1542   2009-05-19\n",
       "1543   2009-05-20\n",
       "1544   2009-05-21\n",
       "1545   2009-05-22\n",
       "1546   2009-05-25\n",
       "1547   2009-05-26\n",
       "1548   2009-05-27\n",
       "1549   2009-06-01\n",
       "1550   2009-06-02\n",
       "1551   2009-06-03\n",
       "1552   2009-06-04\n",
       "1553   2009-06-05\n",
       "1554   2009-06-08\n",
       "1555   2009-06-09\n",
       "1556   2009-06-10\n",
       "1557   2009-06-11\n",
       "1558   2009-06-12\n",
       "1559   2009-06-15\n",
       "1560   2009-06-16\n",
       "1561   2009-06-17\n",
       "1562   2009-06-18\n",
       "1563   2009-06-19\n",
       "1564   2009-06-22\n",
       "1565   2009-06-23\n",
       "1566   2009-06-24\n",
       "1567   2009-06-25\n",
       "1568   2009-06-26\n",
       "Name: date1, Length: 1569, dtype: datetime64[ns]"
      ]
     },
     "execution_count": 79,
     "metadata": {},
     "output_type": "execute_result"
    }
   ],
   "source": [
    "#方法二 pd.Timestamp()生成时间戳\n",
    "t[\"date1\"].map(lambda x:pd.Timestamp(x))\n",
    "\n",
    "#方法三 pd.to_datetime() 生成时间戳\n",
    "t[\"date1\"].map(lambda x:pd.to_datetime(x,format=\"%m/%d/%Y\"))\n",
    "# 方式一与方式三的形式大体相同"
   ]
  },
  {
   "cell_type": "markdown",
   "metadata": {},
   "source": [
    "数值转换成日期"
   ]
  },
  {
   "cell_type": "code",
   "execution_count": 80,
   "metadata": {},
   "outputs": [],
   "source": [
    "#方式一 pd.to_datetime函数\n",
    "t['date2']=pd.to_datetime(t['all seconds'],unit='s')\n",
    "# 秒数转化成时间之后这个时间默认是0时区的时间"
   ]
  },
  {
   "cell_type": "code",
   "execution_count": 81,
   "metadata": {},
   "outputs": [
    {
     "data": {
      "text/html": [
       "<div>\n",
       "<style scoped>\n",
       "    .dataframe tbody tr th:only-of-type {\n",
       "        vertical-align: middle;\n",
       "    }\n",
       "\n",
       "    .dataframe tbody tr th {\n",
       "        vertical-align: top;\n",
       "    }\n",
       "\n",
       "    .dataframe thead th {\n",
       "        text-align: right;\n",
       "    }\n",
       "</style>\n",
       "<table border=\"1\" class=\"dataframe\">\n",
       "  <thead>\n",
       "    <tr style=\"text-align: right;\">\n",
       "      <th></th>\n",
       "      <th>date</th>\n",
       "      <th>p</th>\n",
       "      <th>all seconds</th>\n",
       "      <th>//</th>\n",
       "      <th>straight</th>\n",
       "      <th>year</th>\n",
       "      <th>month</th>\n",
       "      <th>day</th>\n",
       "      <th>dayofweek+1</th>\n",
       "      <th>ym</th>\n",
       "      <th>date1</th>\n",
       "      <th>date2</th>\n",
       "    </tr>\n",
       "  </thead>\n",
       "  <tbody>\n",
       "    <tr>\n",
       "      <th>0</th>\n",
       "      <td>2003-01-06</td>\n",
       "      <td>1334.68</td>\n",
       "      <td>1.041811e+09</td>\n",
       "      <td>2003/01/06</td>\n",
       "      <td>2003/01/06</td>\n",
       "      <td>2003</td>\n",
       "      <td>1</td>\n",
       "      <td>6</td>\n",
       "      <td>1</td>\n",
       "      <td>2003-01</td>\n",
       "      <td>2003-01-06</td>\n",
       "      <td>2003-01-06</td>\n",
       "    </tr>\n",
       "    <tr>\n",
       "      <th>1</th>\n",
       "      <td>2003-01-07</td>\n",
       "      <td>1332.06</td>\n",
       "      <td>1.041898e+09</td>\n",
       "      <td>2003/01/07</td>\n",
       "      <td>2003/01/07</td>\n",
       "      <td>2003</td>\n",
       "      <td>1</td>\n",
       "      <td>7</td>\n",
       "      <td>2</td>\n",
       "      <td>2003-01</td>\n",
       "      <td>2003-01-07</td>\n",
       "      <td>2003-01-07</td>\n",
       "    </tr>\n",
       "    <tr>\n",
       "      <th>2</th>\n",
       "      <td>2003-01-08</td>\n",
       "      <td>1372.07</td>\n",
       "      <td>1.041984e+09</td>\n",
       "      <td>2003/01/08</td>\n",
       "      <td>2003/01/08</td>\n",
       "      <td>2003</td>\n",
       "      <td>1</td>\n",
       "      <td>8</td>\n",
       "      <td>3</td>\n",
       "      <td>2003-01</td>\n",
       "      <td>2003-01-08</td>\n",
       "      <td>2003-01-08</td>\n",
       "    </tr>\n",
       "    <tr>\n",
       "      <th>3</th>\n",
       "      <td>2003-01-09</td>\n",
       "      <td>1397.38</td>\n",
       "      <td>1.042070e+09</td>\n",
       "      <td>2003/01/09</td>\n",
       "      <td>2003/01/09</td>\n",
       "      <td>2003</td>\n",
       "      <td>1</td>\n",
       "      <td>9</td>\n",
       "      <td>4</td>\n",
       "      <td>2003-01</td>\n",
       "      <td>2003-01-09</td>\n",
       "      <td>2003-01-09</td>\n",
       "    </tr>\n",
       "    <tr>\n",
       "      <th>4</th>\n",
       "      <td>2003-01-10</td>\n",
       "      <td>1384.86</td>\n",
       "      <td>1.042157e+09</td>\n",
       "      <td>2003/01/10</td>\n",
       "      <td>2003/01/10</td>\n",
       "      <td>2003</td>\n",
       "      <td>1</td>\n",
       "      <td>10</td>\n",
       "      <td>5</td>\n",
       "      <td>2003-01</td>\n",
       "      <td>2003-01-10</td>\n",
       "      <td>2003-01-10</td>\n",
       "    </tr>\n",
       "  </tbody>\n",
       "</table>\n",
       "</div>"
      ],
      "text/plain": [
       "        date        p   all seconds          //    straight  year  month  day  \\\n",
       "0 2003-01-06  1334.68  1.041811e+09  2003/01/06  2003/01/06  2003      1    6   \n",
       "1 2003-01-07  1332.06  1.041898e+09  2003/01/07  2003/01/07  2003      1    7   \n",
       "2 2003-01-08  1372.07  1.041984e+09  2003/01/08  2003/01/08  2003      1    8   \n",
       "3 2003-01-09  1397.38  1.042070e+09  2003/01/09  2003/01/09  2003      1    9   \n",
       "4 2003-01-10  1384.86  1.042157e+09  2003/01/10  2003/01/10  2003      1   10   \n",
       "\n",
       "   dayofweek+1       ym      date1      date2  \n",
       "0            1  2003-01 2003-01-06 2003-01-06  \n",
       "1            2  2003-01 2003-01-07 2003-01-07  \n",
       "2            3  2003-01 2003-01-08 2003-01-08  \n",
       "3            4  2003-01 2003-01-09 2003-01-09  \n",
       "4            5  2003-01 2003-01-10 2003-01-10  "
      ]
     },
     "execution_count": 81,
     "metadata": {},
     "output_type": "execute_result"
    }
   ],
   "source": [
    "t.head()"
   ]
  },
  {
   "cell_type": "code",
   "execution_count": 82,
   "metadata": {},
   "outputs": [],
   "source": [
    "# 方式二、map(lambda x:pd.Timestamp(x，unit='s'))\n",
    "t['date3']=t['date'].map(lambda x:pd.Timestamp(x,unit='s'))\n",
    "# 方式三、map(lambdax :pd.to_datetime(x.unit='s'))\n",
    "t['date4']=t['date'].map(lambda x:pd.to_datetime(x,unit='s'))"
   ]
  },
  {
   "cell_type": "code",
   "execution_count": 83,
   "metadata": {},
   "outputs": [
    {
     "data": {
      "text/html": [
       "<div>\n",
       "<style scoped>\n",
       "    .dataframe tbody tr th:only-of-type {\n",
       "        vertical-align: middle;\n",
       "    }\n",
       "\n",
       "    .dataframe tbody tr th {\n",
       "        vertical-align: top;\n",
       "    }\n",
       "\n",
       "    .dataframe thead th {\n",
       "        text-align: right;\n",
       "    }\n",
       "</style>\n",
       "<table border=\"1\" class=\"dataframe\">\n",
       "  <thead>\n",
       "    <tr style=\"text-align: right;\">\n",
       "      <th></th>\n",
       "      <th>date</th>\n",
       "      <th>p</th>\n",
       "      <th>all seconds</th>\n",
       "      <th>//</th>\n",
       "      <th>straight</th>\n",
       "      <th>year</th>\n",
       "      <th>month</th>\n",
       "      <th>day</th>\n",
       "      <th>dayofweek+1</th>\n",
       "      <th>ym</th>\n",
       "      <th>date1</th>\n",
       "      <th>date2</th>\n",
       "      <th>date3</th>\n",
       "      <th>date4</th>\n",
       "    </tr>\n",
       "  </thead>\n",
       "  <tbody>\n",
       "    <tr>\n",
       "      <th>0</th>\n",
       "      <td>2003-01-06</td>\n",
       "      <td>1334.68</td>\n",
       "      <td>1.041811e+09</td>\n",
       "      <td>2003/01/06</td>\n",
       "      <td>2003/01/06</td>\n",
       "      <td>2003</td>\n",
       "      <td>1</td>\n",
       "      <td>6</td>\n",
       "      <td>1</td>\n",
       "      <td>2003-01</td>\n",
       "      <td>2003-01-06</td>\n",
       "      <td>2003-01-06</td>\n",
       "      <td>2003-01-06</td>\n",
       "      <td>2003-01-06</td>\n",
       "    </tr>\n",
       "    <tr>\n",
       "      <th>1</th>\n",
       "      <td>2003-01-07</td>\n",
       "      <td>1332.06</td>\n",
       "      <td>1.041898e+09</td>\n",
       "      <td>2003/01/07</td>\n",
       "      <td>2003/01/07</td>\n",
       "      <td>2003</td>\n",
       "      <td>1</td>\n",
       "      <td>7</td>\n",
       "      <td>2</td>\n",
       "      <td>2003-01</td>\n",
       "      <td>2003-01-07</td>\n",
       "      <td>2003-01-07</td>\n",
       "      <td>2003-01-07</td>\n",
       "      <td>2003-01-07</td>\n",
       "    </tr>\n",
       "    <tr>\n",
       "      <th>2</th>\n",
       "      <td>2003-01-08</td>\n",
       "      <td>1372.07</td>\n",
       "      <td>1.041984e+09</td>\n",
       "      <td>2003/01/08</td>\n",
       "      <td>2003/01/08</td>\n",
       "      <td>2003</td>\n",
       "      <td>1</td>\n",
       "      <td>8</td>\n",
       "      <td>3</td>\n",
       "      <td>2003-01</td>\n",
       "      <td>2003-01-08</td>\n",
       "      <td>2003-01-08</td>\n",
       "      <td>2003-01-08</td>\n",
       "      <td>2003-01-08</td>\n",
       "    </tr>\n",
       "    <tr>\n",
       "      <th>3</th>\n",
       "      <td>2003-01-09</td>\n",
       "      <td>1397.38</td>\n",
       "      <td>1.042070e+09</td>\n",
       "      <td>2003/01/09</td>\n",
       "      <td>2003/01/09</td>\n",
       "      <td>2003</td>\n",
       "      <td>1</td>\n",
       "      <td>9</td>\n",
       "      <td>4</td>\n",
       "      <td>2003-01</td>\n",
       "      <td>2003-01-09</td>\n",
       "      <td>2003-01-09</td>\n",
       "      <td>2003-01-09</td>\n",
       "      <td>2003-01-09</td>\n",
       "    </tr>\n",
       "    <tr>\n",
       "      <th>4</th>\n",
       "      <td>2003-01-10</td>\n",
       "      <td>1384.86</td>\n",
       "      <td>1.042157e+09</td>\n",
       "      <td>2003/01/10</td>\n",
       "      <td>2003/01/10</td>\n",
       "      <td>2003</td>\n",
       "      <td>1</td>\n",
       "      <td>10</td>\n",
       "      <td>5</td>\n",
       "      <td>2003-01</td>\n",
       "      <td>2003-01-10</td>\n",
       "      <td>2003-01-10</td>\n",
       "      <td>2003-01-10</td>\n",
       "      <td>2003-01-10</td>\n",
       "    </tr>\n",
       "  </tbody>\n",
       "</table>\n",
       "</div>"
      ],
      "text/plain": [
       "        date        p   all seconds          //    straight  year  month  day  \\\n",
       "0 2003-01-06  1334.68  1.041811e+09  2003/01/06  2003/01/06  2003      1    6   \n",
       "1 2003-01-07  1332.06  1.041898e+09  2003/01/07  2003/01/07  2003      1    7   \n",
       "2 2003-01-08  1372.07  1.041984e+09  2003/01/08  2003/01/08  2003      1    8   \n",
       "3 2003-01-09  1397.38  1.042070e+09  2003/01/09  2003/01/09  2003      1    9   \n",
       "4 2003-01-10  1384.86  1.042157e+09  2003/01/10  2003/01/10  2003      1   10   \n",
       "\n",
       "   dayofweek+1       ym      date1      date2      date3      date4  \n",
       "0            1  2003-01 2003-01-06 2003-01-06 2003-01-06 2003-01-06  \n",
       "1            2  2003-01 2003-01-07 2003-01-07 2003-01-07 2003-01-07  \n",
       "2            3  2003-01 2003-01-08 2003-01-08 2003-01-08 2003-01-08  \n",
       "3            4  2003-01 2003-01-09 2003-01-09 2003-01-09 2003-01-09  \n",
       "4            5  2003-01 2003-01-10 2003-01-10 2003-01-10 2003-01-10  "
      ]
     },
     "execution_count": 83,
     "metadata": {},
     "output_type": "execute_result"
    }
   ],
   "source": [
    "t.head()"
   ]
  },
  {
   "cell_type": "code",
   "execution_count": 84,
   "metadata": {},
   "outputs": [],
   "source": [
    "# 注意：方式三可以设定时区\n",
    "# UTC=False没有设定时区\n",
    "t['date5']=t['date'].map(lambda x:pd.to_datetime(x,unit='s',utc=False))\n",
    "# UTC=True 默认设定的是0时区\n",
    "t['date6']=t['date'].map(lambda x:pd.to_datetime(x,unit='s',utc=True))"
   ]
  },
  {
   "cell_type": "code",
   "execution_count": 85,
   "metadata": {},
   "outputs": [],
   "source": [
    "# 方式二设定时区\n",
    "# tz='Asia/Shanghai' 设定的亚洲上海的时区\n",
    "t['date7']=t['date'].map(lambda x:pd.Timestamp(x,unit='s',tz='Asia/Shanghai'))"
   ]
  },
  {
   "cell_type": "code",
   "execution_count": 86,
   "metadata": {},
   "outputs": [
    {
     "data": {
      "text/html": [
       "<div>\n",
       "<style scoped>\n",
       "    .dataframe tbody tr th:only-of-type {\n",
       "        vertical-align: middle;\n",
       "    }\n",
       "\n",
       "    .dataframe tbody tr th {\n",
       "        vertical-align: top;\n",
       "    }\n",
       "\n",
       "    .dataframe thead th {\n",
       "        text-align: right;\n",
       "    }\n",
       "</style>\n",
       "<table border=\"1\" class=\"dataframe\">\n",
       "  <thead>\n",
       "    <tr style=\"text-align: right;\">\n",
       "      <th></th>\n",
       "      <th>date5</th>\n",
       "      <th>date6</th>\n",
       "      <th>date7</th>\n",
       "    </tr>\n",
       "  </thead>\n",
       "  <tbody>\n",
       "    <tr>\n",
       "      <th>0</th>\n",
       "      <td>2003-01-06</td>\n",
       "      <td>2003-01-06 00:00:00+00:00</td>\n",
       "      <td>2003-01-06 00:00:00+08:00</td>\n",
       "    </tr>\n",
       "    <tr>\n",
       "      <th>1</th>\n",
       "      <td>2003-01-07</td>\n",
       "      <td>2003-01-07 00:00:00+00:00</td>\n",
       "      <td>2003-01-07 00:00:00+08:00</td>\n",
       "    </tr>\n",
       "    <tr>\n",
       "      <th>2</th>\n",
       "      <td>2003-01-08</td>\n",
       "      <td>2003-01-08 00:00:00+00:00</td>\n",
       "      <td>2003-01-08 00:00:00+08:00</td>\n",
       "    </tr>\n",
       "    <tr>\n",
       "      <th>3</th>\n",
       "      <td>2003-01-09</td>\n",
       "      <td>2003-01-09 00:00:00+00:00</td>\n",
       "      <td>2003-01-09 00:00:00+08:00</td>\n",
       "    </tr>\n",
       "    <tr>\n",
       "      <th>4</th>\n",
       "      <td>2003-01-10</td>\n",
       "      <td>2003-01-10 00:00:00+00:00</td>\n",
       "      <td>2003-01-10 00:00:00+08:00</td>\n",
       "    </tr>\n",
       "  </tbody>\n",
       "</table>\n",
       "</div>"
      ],
      "text/plain": [
       "       date5                     date6                     date7\n",
       "0 2003-01-06 2003-01-06 00:00:00+00:00 2003-01-06 00:00:00+08:00\n",
       "1 2003-01-07 2003-01-07 00:00:00+00:00 2003-01-07 00:00:00+08:00\n",
       "2 2003-01-08 2003-01-08 00:00:00+00:00 2003-01-08 00:00:00+08:00\n",
       "3 2003-01-09 2003-01-09 00:00:00+00:00 2003-01-09 00:00:00+08:00\n",
       "4 2003-01-10 2003-01-10 00:00:00+00:00 2003-01-10 00:00:00+08:00"
      ]
     },
     "execution_count": 86,
     "metadata": {},
     "output_type": "execute_result"
    }
   ],
   "source": [
    "t[['date5','date6','date7']].head()\n",
    "# date6设定了0时区\n",
    "# date7设定了上海的时区"
   ]
  },
  {
   "cell_type": "markdown",
   "metadata": {},
   "source": [
    "# 6.变量的滞后一期"
   ]
  },
  {
   "cell_type": "code",
   "execution_count": 87,
   "metadata": {},
   "outputs": [
    {
     "data": {
      "text/html": [
       "<div>\n",
       "<style scoped>\n",
       "    .dataframe tbody tr th:only-of-type {\n",
       "        vertical-align: middle;\n",
       "    }\n",
       "\n",
       "    .dataframe tbody tr th {\n",
       "        vertical-align: top;\n",
       "    }\n",
       "\n",
       "    .dataframe thead th {\n",
       "        text-align: right;\n",
       "    }\n",
       "</style>\n",
       "<table border=\"1\" class=\"dataframe\">\n",
       "  <thead>\n",
       "    <tr style=\"text-align: right;\">\n",
       "      <th></th>\n",
       "      <th>index</th>\n",
       "      <th>date</th>\n",
       "      <th>p</th>\n",
       "    </tr>\n",
       "  </thead>\n",
       "  <tbody>\n",
       "    <tr>\n",
       "      <th>0</th>\n",
       "      <td>上证指数</td>\n",
       "      <td>2003-01-06</td>\n",
       "      <td>1334.68</td>\n",
       "    </tr>\n",
       "    <tr>\n",
       "      <th>1</th>\n",
       "      <td>上证指数</td>\n",
       "      <td>2003-01-07</td>\n",
       "      <td>1332.06</td>\n",
       "    </tr>\n",
       "    <tr>\n",
       "      <th>2</th>\n",
       "      <td>上证指数</td>\n",
       "      <td>2003-01-08</td>\n",
       "      <td>1372.07</td>\n",
       "    </tr>\n",
       "    <tr>\n",
       "      <th>3</th>\n",
       "      <td>上证指数</td>\n",
       "      <td>2003-01-09</td>\n",
       "      <td>1397.38</td>\n",
       "    </tr>\n",
       "    <tr>\n",
       "      <th>4</th>\n",
       "      <td>上证指数</td>\n",
       "      <td>2003-01-10</td>\n",
       "      <td>1384.86</td>\n",
       "    </tr>\n",
       "  </tbody>\n",
       "</table>\n",
       "</div>"
      ],
      "text/plain": [
       "  index       date        p\n",
       "0  上证指数 2003-01-06  1334.68\n",
       "1  上证指数 2003-01-07  1332.06\n",
       "2  上证指数 2003-01-08  1372.07\n",
       "3  上证指数 2003-01-09  1397.38\n",
       "4  上证指数 2003-01-10  1384.86"
      ]
     },
     "execution_count": 87,
     "metadata": {},
     "output_type": "execute_result"
    }
   ],
   "source": [
    "data=pd.read_excel('E:\\python 资料\\python 数据清洗（numpy、pandas、数据可视化）\\pandas\\上证指数日收盘价数据.xls')\n",
    "data.head()"
   ]
  },
  {
   "cell_type": "markdown",
   "metadata": {},
   "source": [
    "**求变量滞后一期**"
   ]
  },
  {
   "cell_type": "code",
   "execution_count": 88,
   "metadata": {},
   "outputs": [
    {
     "data": {
      "text/html": [
       "<div>\n",
       "<style scoped>\n",
       "    .dataframe tbody tr th:only-of-type {\n",
       "        vertical-align: middle;\n",
       "    }\n",
       "\n",
       "    .dataframe tbody tr th {\n",
       "        vertical-align: top;\n",
       "    }\n",
       "\n",
       "    .dataframe thead th {\n",
       "        text-align: right;\n",
       "    }\n",
       "</style>\n",
       "<table border=\"1\" class=\"dataframe\">\n",
       "  <thead>\n",
       "    <tr style=\"text-align: right;\">\n",
       "      <th></th>\n",
       "      <th>index</th>\n",
       "      <th>date</th>\n",
       "      <th>p</th>\n",
       "    </tr>\n",
       "  </thead>\n",
       "  <tbody>\n",
       "    <tr>\n",
       "      <th>0</th>\n",
       "      <td>上证指数</td>\n",
       "      <td>2003-01-07</td>\n",
       "      <td>1332.06</td>\n",
       "    </tr>\n",
       "    <tr>\n",
       "      <th>1</th>\n",
       "      <td>上证指数</td>\n",
       "      <td>2003-01-08</td>\n",
       "      <td>1372.07</td>\n",
       "    </tr>\n",
       "    <tr>\n",
       "      <th>2</th>\n",
       "      <td>上证指数</td>\n",
       "      <td>2003-01-09</td>\n",
       "      <td>1397.38</td>\n",
       "    </tr>\n",
       "    <tr>\n",
       "      <th>3</th>\n",
       "      <td>上证指数</td>\n",
       "      <td>2003-01-10</td>\n",
       "      <td>1384.86</td>\n",
       "    </tr>\n",
       "    <tr>\n",
       "      <th>4</th>\n",
       "      <td>上证指数</td>\n",
       "      <td>2003-01-13</td>\n",
       "      <td>1386.31</td>\n",
       "    </tr>\n",
       "  </tbody>\n",
       "</table>\n",
       "</div>"
      ],
      "text/plain": [
       "  index       date        p\n",
       "0  上证指数 2003-01-07  1332.06\n",
       "1  上证指数 2003-01-08  1372.07\n",
       "2  上证指数 2003-01-09  1397.38\n",
       "3  上证指数 2003-01-10  1384.86\n",
       "4  上证指数 2003-01-13  1386.31"
      ]
     },
     "execution_count": 88,
     "metadata": {},
     "output_type": "execute_result"
    }
   ],
   "source": [
    "# 整体滞后\n",
    "data.shift(-1).head()"
   ]
  },
  {
   "cell_type": "code",
   "execution_count": 89,
   "metadata": {},
   "outputs": [
    {
     "data": {
      "text/plain": [
       "0    1332.06\n",
       "1    1372.07\n",
       "2    1397.38\n",
       "3    1384.86\n",
       "4    1386.31\n",
       "Name: p, dtype: float64"
      ]
     },
     "execution_count": 89,
     "metadata": {},
     "output_type": "execute_result"
    }
   ],
   "source": [
    "# 某一个的滞后\n",
    "data.p.shift(-1).head()"
   ]
  },
  {
   "cell_type": "markdown",
   "metadata": {},
   "source": [
    "**求变量先导一期**"
   ]
  },
  {
   "cell_type": "code",
   "execution_count": 90,
   "metadata": {},
   "outputs": [
    {
     "data": {
      "text/html": [
       "<div>\n",
       "<style scoped>\n",
       "    .dataframe tbody tr th:only-of-type {\n",
       "        vertical-align: middle;\n",
       "    }\n",
       "\n",
       "    .dataframe tbody tr th {\n",
       "        vertical-align: top;\n",
       "    }\n",
       "\n",
       "    .dataframe thead th {\n",
       "        text-align: right;\n",
       "    }\n",
       "</style>\n",
       "<table border=\"1\" class=\"dataframe\">\n",
       "  <thead>\n",
       "    <tr style=\"text-align: right;\">\n",
       "      <th></th>\n",
       "      <th>index</th>\n",
       "      <th>date</th>\n",
       "      <th>p</th>\n",
       "    </tr>\n",
       "  </thead>\n",
       "  <tbody>\n",
       "    <tr>\n",
       "      <th>1564</th>\n",
       "      <td>上证指数</td>\n",
       "      <td>2009-06-23</td>\n",
       "      <td>2892.70</td>\n",
       "    </tr>\n",
       "    <tr>\n",
       "      <th>1565</th>\n",
       "      <td>上证指数</td>\n",
       "      <td>2009-06-24</td>\n",
       "      <td>2922.30</td>\n",
       "    </tr>\n",
       "    <tr>\n",
       "      <th>1566</th>\n",
       "      <td>上证指数</td>\n",
       "      <td>2009-06-25</td>\n",
       "      <td>2925.05</td>\n",
       "    </tr>\n",
       "    <tr>\n",
       "      <th>1567</th>\n",
       "      <td>上证指数</td>\n",
       "      <td>2009-06-26</td>\n",
       "      <td>2928.21</td>\n",
       "    </tr>\n",
       "    <tr>\n",
       "      <th>1568</th>\n",
       "      <td>NaN</td>\n",
       "      <td>NaT</td>\n",
       "      <td>NaN</td>\n",
       "    </tr>\n",
       "  </tbody>\n",
       "</table>\n",
       "</div>"
      ],
      "text/plain": [
       "     index       date        p\n",
       "1564  上证指数 2009-06-23  2892.70\n",
       "1565  上证指数 2009-06-24  2922.30\n",
       "1566  上证指数 2009-06-25  2925.05\n",
       "1567  上证指数 2009-06-26  2928.21\n",
       "1568   NaN        NaT      NaN"
      ]
     },
     "execution_count": 90,
     "metadata": {},
     "output_type": "execute_result"
    }
   ],
   "source": [
    "# 整个数据框的先导一期\n",
    "data.shift(-1).tail()"
   ]
  },
  {
   "cell_type": "code",
   "execution_count": 91,
   "metadata": {},
   "outputs": [
    {
     "data": {
      "text/plain": [
       "1564    2892.70\n",
       "1565    2922.30\n",
       "1566    2925.05\n",
       "1567    2928.21\n",
       "1568        NaN\n",
       "Name: p, dtype: float64"
      ]
     },
     "execution_count": 91,
     "metadata": {},
     "output_type": "execute_result"
    }
   ],
   "source": [
    "# p的先导一期\n",
    "data.p.shift(-1).tail()"
   ]
  },
  {
   "cell_type": "markdown",
   "metadata": {},
   "source": [
    "# 四、日期时间变量用做数据框的索引"
   ]
  },
  {
   "cell_type": "code",
   "execution_count": 92,
   "metadata": {},
   "outputs": [
    {
     "data": {
      "text/html": [
       "<div>\n",
       "<style scoped>\n",
       "    .dataframe tbody tr th:only-of-type {\n",
       "        vertical-align: middle;\n",
       "    }\n",
       "\n",
       "    .dataframe tbody tr th {\n",
       "        vertical-align: top;\n",
       "    }\n",
       "\n",
       "    .dataframe thead th {\n",
       "        text-align: right;\n",
       "    }\n",
       "</style>\n",
       "<table border=\"1\" class=\"dataframe\">\n",
       "  <thead>\n",
       "    <tr style=\"text-align: right;\">\n",
       "      <th></th>\n",
       "      <th>index</th>\n",
       "      <th>date</th>\n",
       "      <th>p</th>\n",
       "    </tr>\n",
       "  </thead>\n",
       "  <tbody>\n",
       "    <tr>\n",
       "      <th>0</th>\n",
       "      <td>上证指数</td>\n",
       "      <td>2003-01-06</td>\n",
       "      <td>1334.68</td>\n",
       "    </tr>\n",
       "    <tr>\n",
       "      <th>1</th>\n",
       "      <td>上证指数</td>\n",
       "      <td>2003-01-07</td>\n",
       "      <td>1332.06</td>\n",
       "    </tr>\n",
       "    <tr>\n",
       "      <th>2</th>\n",
       "      <td>上证指数</td>\n",
       "      <td>2003-01-08</td>\n",
       "      <td>1372.07</td>\n",
       "    </tr>\n",
       "    <tr>\n",
       "      <th>3</th>\n",
       "      <td>上证指数</td>\n",
       "      <td>2003-01-09</td>\n",
       "      <td>1397.38</td>\n",
       "    </tr>\n",
       "    <tr>\n",
       "      <th>4</th>\n",
       "      <td>上证指数</td>\n",
       "      <td>2003-01-10</td>\n",
       "      <td>1384.86</td>\n",
       "    </tr>\n",
       "  </tbody>\n",
       "</table>\n",
       "</div>"
      ],
      "text/plain": [
       "  index       date        p\n",
       "0  上证指数 2003-01-06  1334.68\n",
       "1  上证指数 2003-01-07  1332.06\n",
       "2  上证指数 2003-01-08  1372.07\n",
       "3  上证指数 2003-01-09  1397.38\n",
       "4  上证指数 2003-01-10  1384.86"
      ]
     },
     "execution_count": 92,
     "metadata": {},
     "output_type": "execute_result"
    }
   ],
   "source": [
    "data.head()"
   ]
  },
  {
   "cell_type": "code",
   "execution_count": 93,
   "metadata": {},
   "outputs": [
    {
     "data": {
      "text/plain": [
       "0    1334.68\n",
       "1    1332.06\n",
       "Name: p, dtype: float64"
      ]
     },
     "execution_count": 93,
     "metadata": {},
     "output_type": "execute_result"
    }
   ],
   "source": [
    "data['p'][0:2]\n",
    "# 索引的大都是左包含右不包含"
   ]
  },
  {
   "cell_type": "code",
   "execution_count": 94,
   "metadata": {},
   "outputs": [
    {
     "data": {
      "text/plain": [
       "0    1334.68\n",
       "3    1397.38\n",
       "Name: p, dtype: float64"
      ]
     },
     "execution_count": 94,
     "metadata": {},
     "output_type": "execute_result"
    }
   ],
   "source": [
    "data.p[[0,3]]"
   ]
  },
  {
   "cell_type": "code",
   "execution_count": 95,
   "metadata": {},
   "outputs": [
    {
     "data": {
      "text/plain": [
       "16     1500.64\n",
       "21     1504.34\n",
       "26     1509.49\n",
       "71     1503.59\n",
       "74     1509.31\n",
       "108    1502.08\n",
       "114    1504.44\n",
       "115    1502.35\n",
       "116    1501.48\n",
       "118    1503.31\n",
       "125    1507.16\n",
       "128    1502.15\n",
       "232    1500.64\n",
       "Name: p, dtype: float64"
      ]
     },
     "execution_count": 95,
     "metadata": {},
     "output_type": "execute_result"
    }
   ],
   "source": [
    "# 布尔索引\n",
    "data.p[(data.p > 1500) &(data.p < 1510)]"
   ]
  },
  {
   "cell_type": "markdown",
   "metadata": {},
   "source": [
    "- **绘图**"
   ]
  },
  {
   "cell_type": "code",
   "execution_count": 96,
   "metadata": {},
   "outputs": [
    {
     "name": "stderr",
     "output_type": "stream",
     "text": [
      "E:\\python\\lib\\site-packages\\pandas\\plotting\\_converter.py:129: FutureWarning: Using an implicitly registered datetime converter for a matplotlib plotting method. The converter was registered by pandas on import. Future versions of pandas will require you to explicitly register matplotlib converters.\n",
      "\n",
      "To register the converters:\n",
      "\t>>> from pandas.plotting import register_matplotlib_converters\n",
      "\t>>> register_matplotlib_converters()\n",
      "  warnings.warn(msg, FutureWarning)\n"
     ]
    },
    {
     "data": {
      "image/png": "[encoded data removed]",
      "text/plain": [
       "<Figure size 720x432 with 1 Axes>"
      ]
     },
     "metadata": {
      "needs_background": "light"
     },
     "output_type": "display_data"
    }
   ],
   "source": [
    "plt.figure(figsize=(10,6))\n",
    "plt.plot(data['date'],data['p'],'ro--',alpha=0.6);"
   ]
  },
  {
   "cell_type": "code",
   "execution_count": 97,
   "metadata": {},
   "outputs": [
    {
     "data": {
      "image/png": "[encoded data removed]",
      "text/plain": [
       "<Figure size 432x288 with 1 Axes>"
      ]
     },
     "metadata": {
      "needs_background": "light"
     },
     "output_type": "display_data"
    }
   ],
   "source": [
    "#某个变量的线图\n",
    "data['p'].plot(style='g*-');"
   ]
  },
  {
   "cell_type": "markdown",
   "metadata": {},
   "source": [
    "# 五、一阶差分\n",
    "- ### **diff**"
   ]
  },
  {
   "cell_type": "code",
   "execution_count": 98,
   "metadata": {},
   "outputs": [],
   "source": [
    "data['p_diff']=data.p.diff()"
   ]
  },
  {
   "cell_type": "code",
   "execution_count": 99,
   "metadata": {},
   "outputs": [
    {
     "data": {
      "text/html": [
       "<div>\n",
       "<style scoped>\n",
       "    .dataframe tbody tr th:only-of-type {\n",
       "        vertical-align: middle;\n",
       "    }\n",
       "\n",
       "    .dataframe tbody tr th {\n",
       "        vertical-align: top;\n",
       "    }\n",
       "\n",
       "    .dataframe thead th {\n",
       "        text-align: right;\n",
       "    }\n",
       "</style>\n",
       "<table border=\"1\" class=\"dataframe\">\n",
       "  <thead>\n",
       "    <tr style=\"text-align: right;\">\n",
       "      <th></th>\n",
       "      <th>index</th>\n",
       "      <th>date</th>\n",
       "      <th>p</th>\n",
       "      <th>p_diff</th>\n",
       "    </tr>\n",
       "  </thead>\n",
       "  <tbody>\n",
       "    <tr>\n",
       "      <th>0</th>\n",
       "      <td>上证指数</td>\n",
       "      <td>2003-01-06</td>\n",
       "      <td>1334.68</td>\n",
       "      <td>NaN</td>\n",
       "    </tr>\n",
       "    <tr>\n",
       "      <th>1</th>\n",
       "      <td>上证指数</td>\n",
       "      <td>2003-01-07</td>\n",
       "      <td>1332.06</td>\n",
       "      <td>-2.62</td>\n",
       "    </tr>\n",
       "    <tr>\n",
       "      <th>2</th>\n",
       "      <td>上证指数</td>\n",
       "      <td>2003-01-08</td>\n",
       "      <td>1372.07</td>\n",
       "      <td>40.01</td>\n",
       "    </tr>\n",
       "    <tr>\n",
       "      <th>3</th>\n",
       "      <td>上证指数</td>\n",
       "      <td>2003-01-09</td>\n",
       "      <td>1397.38</td>\n",
       "      <td>25.31</td>\n",
       "    </tr>\n",
       "    <tr>\n",
       "      <th>4</th>\n",
       "      <td>上证指数</td>\n",
       "      <td>2003-01-10</td>\n",
       "      <td>1384.86</td>\n",
       "      <td>-12.52</td>\n",
       "    </tr>\n",
       "  </tbody>\n",
       "</table>\n",
       "</div>"
      ],
      "text/plain": [
       "  index       date        p  p_diff\n",
       "0  上证指数 2003-01-06  1334.68     NaN\n",
       "1  上证指数 2003-01-07  1332.06   -2.62\n",
       "2  上证指数 2003-01-08  1372.07   40.01\n",
       "3  上证指数 2003-01-09  1397.38   25.31\n",
       "4  上证指数 2003-01-10  1384.86  -12.52"
      ]
     },
     "execution_count": 99,
     "metadata": {},
     "output_type": "execute_result"
    }
   ],
   "source": [
    "data.head()"
   ]
  },
  {
   "cell_type": "code",
   "execution_count": 100,
   "metadata": {},
   "outputs": [],
   "source": [
    "import math"
   ]
  },
  {
   "cell_type": "code",
   "execution_count": 101,
   "metadata": {},
   "outputs": [],
   "source": [
    "# 取对数进行差分\n",
    "data['r']=data['p'].map(math.log).diff()"
   ]
  },
  {
   "cell_type": "code",
   "execution_count": 102,
   "metadata": {},
   "outputs": [
    {
     "data": {
      "text/plain": [
       "0         NaN\n",
       "1   -0.001965\n",
       "2    0.029594\n",
       "3    0.018279\n",
       "4   -0.009000\n",
       "Name: r, dtype: float64"
      ]
     },
     "execution_count": 102,
     "metadata": {},
     "output_type": "execute_result"
    }
   ],
   "source": [
    "data.r.head()"
   ]
  },
  {
   "cell_type": "code",
   "execution_count": 103,
   "metadata": {},
   "outputs": [],
   "source": [
    "# 将date作为索引\n",
    "data.index=data['date']"
   ]
  },
  {
   "cell_type": "code",
   "execution_count": 104,
   "metadata": {},
   "outputs": [
    {
     "data": {
      "text/html": [
       "<div>\n",
       "<style scoped>\n",
       "    .dataframe tbody tr th:only-of-type {\n",
       "        vertical-align: middle;\n",
       "    }\n",
       "\n",
       "    .dataframe tbody tr th {\n",
       "        vertical-align: top;\n",
       "    }\n",
       "\n",
       "    .dataframe thead th {\n",
       "        text-align: right;\n",
       "    }\n",
       "</style>\n",
       "<table border=\"1\" class=\"dataframe\">\n",
       "  <thead>\n",
       "    <tr style=\"text-align: right;\">\n",
       "      <th></th>\n",
       "      <th>index</th>\n",
       "      <th>date</th>\n",
       "      <th>p</th>\n",
       "      <th>p_diff</th>\n",
       "      <th>r</th>\n",
       "    </tr>\n",
       "    <tr>\n",
       "      <th>date</th>\n",
       "      <th></th>\n",
       "      <th></th>\n",
       "      <th></th>\n",
       "      <th></th>\n",
       "      <th></th>\n",
       "    </tr>\n",
       "  </thead>\n",
       "  <tbody>\n",
       "    <tr>\n",
       "      <th>2003-01-06</th>\n",
       "      <td>上证指数</td>\n",
       "      <td>2003-01-06</td>\n",
       "      <td>1334.68</td>\n",
       "      <td>NaN</td>\n",
       "      <td>NaN</td>\n",
       "    </tr>\n",
       "    <tr>\n",
       "      <th>2003-01-07</th>\n",
       "      <td>上证指数</td>\n",
       "      <td>2003-01-07</td>\n",
       "      <td>1332.06</td>\n",
       "      <td>-2.62</td>\n",
       "      <td>-0.001965</td>\n",
       "    </tr>\n",
       "    <tr>\n",
       "      <th>2003-01-08</th>\n",
       "      <td>上证指数</td>\n",
       "      <td>2003-01-08</td>\n",
       "      <td>1372.07</td>\n",
       "      <td>40.01</td>\n",
       "      <td>0.029594</td>\n",
       "    </tr>\n",
       "    <tr>\n",
       "      <th>2003-01-09</th>\n",
       "      <td>上证指数</td>\n",
       "      <td>2003-01-09</td>\n",
       "      <td>1397.38</td>\n",
       "      <td>25.31</td>\n",
       "      <td>0.018279</td>\n",
       "    </tr>\n",
       "    <tr>\n",
       "      <th>2003-01-10</th>\n",
       "      <td>上证指数</td>\n",
       "      <td>2003-01-10</td>\n",
       "      <td>1384.86</td>\n",
       "      <td>-12.52</td>\n",
       "      <td>-0.009000</td>\n",
       "    </tr>\n",
       "  </tbody>\n",
       "</table>\n",
       "</div>"
      ],
      "text/plain": [
       "           index       date        p  p_diff         r\n",
       "date                                                  \n",
       "2003-01-06  上证指数 2003-01-06  1334.68     NaN       NaN\n",
       "2003-01-07  上证指数 2003-01-07  1332.06   -2.62 -0.001965\n",
       "2003-01-08  上证指数 2003-01-08  1372.07   40.01  0.029594\n",
       "2003-01-09  上证指数 2003-01-09  1397.38   25.31  0.018279\n",
       "2003-01-10  上证指数 2003-01-10  1384.86  -12.52 -0.009000"
      ]
     },
     "execution_count": 104,
     "metadata": {},
     "output_type": "execute_result"
    }
   ],
   "source": [
    "data.head()"
   ]
  },
  {
   "cell_type": "code",
   "execution_count": 105,
   "metadata": {},
   "outputs": [
    {
     "data": {
      "text/plain": [
       "date\n",
       "2003-01-06    1334.68\n",
       "2003-01-07    1332.06\n",
       "2003-01-08    1372.07\n",
       "2003-01-09    1397.38\n",
       "2003-01-10    1384.86\n",
       "Name: p, dtype: float64"
      ]
     },
     "execution_count": 105,
     "metadata": {},
     "output_type": "execute_result"
    }
   ],
   "source": [
    "# 此时则可以得到日期和数值\n",
    "data['p'].head()"
   ]
  },
  {
   "cell_type": "code",
   "execution_count": 106,
   "metadata": {},
   "outputs": [
    {
     "data": {
      "text/plain": [
       "date\n",
       "2003-01-06    1334.68\n",
       "2003-01-07    1332.06\n",
       "2003-01-08    1372.07\n",
       "2003-01-09    1397.38\n",
       "2003-01-10    1384.86\n",
       "Name: p, dtype: float64"
      ]
     },
     "execution_count": 106,
     "metadata": {},
     "output_type": "execute_result"
    }
   ],
   "source": [
    "# 查出某月份下的p值\n",
    "data['p']['2003-01'].head()"
   ]
  },
  {
   "cell_type": "markdown",
   "metadata": {},
   "source": [
    "# 六、日期频率转换"
   ]
  },
  {
   "cell_type": "markdown",
   "metadata": {},
   "source": [
    "### date_range函数生成日期范围"
   ]
  },
  {
   "cell_type": "code",
   "execution_count": 107,
   "metadata": {},
   "outputs": [],
   "source": [
    "#生成一个带日期的数据框\n",
    "# 先生成日期\n",
    "index=pd.date_range('2019',periods=100,freq='D')\n",
    "data2=pd.DataFrame(np.random.randint(3,100,(100,4)),\n",
    "                   index,columns=list('abcd'))"
   ]
  },
  {
   "cell_type": "code",
   "execution_count": 108,
   "metadata": {},
   "outputs": [
    {
     "data": {
      "text/html": [
       "<div>\n",
       "<style scoped>\n",
       "    .dataframe tbody tr th:only-of-type {\n",
       "        vertical-align: middle;\n",
       "    }\n",
       "\n",
       "    .dataframe tbody tr th {\n",
       "        vertical-align: top;\n",
       "    }\n",
       "\n",
       "    .dataframe thead th {\n",
       "        text-align: right;\n",
       "    }\n",
       "</style>\n",
       "<table border=\"1\" class=\"dataframe\">\n",
       "  <thead>\n",
       "    <tr style=\"text-align: right;\">\n",
       "      <th></th>\n",
       "      <th>a</th>\n",
       "      <th>b</th>\n",
       "      <th>c</th>\n",
       "      <th>d</th>\n",
       "    </tr>\n",
       "  </thead>\n",
       "  <tbody>\n",
       "    <tr>\n",
       "      <th>2019-01-01</th>\n",
       "      <td>45</td>\n",
       "      <td>29</td>\n",
       "      <td>56</td>\n",
       "      <td>50</td>\n",
       "    </tr>\n",
       "    <tr>\n",
       "      <th>2019-01-02</th>\n",
       "      <td>36</td>\n",
       "      <td>66</td>\n",
       "      <td>14</td>\n",
       "      <td>57</td>\n",
       "    </tr>\n",
       "    <tr>\n",
       "      <th>2019-01-03</th>\n",
       "      <td>38</td>\n",
       "      <td>51</td>\n",
       "      <td>80</td>\n",
       "      <td>82</td>\n",
       "    </tr>\n",
       "    <tr>\n",
       "      <th>2019-01-04</th>\n",
       "      <td>28</td>\n",
       "      <td>36</td>\n",
       "      <td>18</td>\n",
       "      <td>64</td>\n",
       "    </tr>\n",
       "    <tr>\n",
       "      <th>2019-01-05</th>\n",
       "      <td>46</td>\n",
       "      <td>68</td>\n",
       "      <td>73</td>\n",
       "      <td>16</td>\n",
       "    </tr>\n",
       "  </tbody>\n",
       "</table>\n",
       "</div>"
      ],
      "text/plain": [
       "             a   b   c   d\n",
       "2019-01-01  45  29  56  50\n",
       "2019-01-02  36  66  14  57\n",
       "2019-01-03  38  51  80  82\n",
       "2019-01-04  28  36  18  64\n",
       "2019-01-05  46  68  73  16"
      ]
     },
     "execution_count": 108,
     "metadata": {},
     "output_type": "execute_result"
    }
   ],
   "source": [
    "data2.head()"
   ]
  },
  {
   "cell_type": "markdown",
   "metadata": {},
   "source": [
    "### asfreq\n",
    "- help(data.asfreq)"
   ]
  },
  {
   "cell_type": "markdown",
   "metadata": {},
   "source": [
    "#### 1.高频向低频转化\n",
    "- 当freq中的数值变大时，意味着从高频向低频转换，即数量由大到小"
   ]
  },
  {
   "cell_type": "code",
   "execution_count": 109,
   "metadata": {},
   "outputs": [
    {
     "data": {
      "text/plain": [
       "(20, 4)"
      ]
     },
     "execution_count": 109,
     "metadata": {},
     "output_type": "execute_result"
    }
   ],
   "source": [
    "data2_tolower=data2.asfreq(freq='5D')\n",
    "data2_tolower.head()\n",
    "data2_tolower.shape"
   ]
  },
  {
   "cell_type": "markdown",
   "metadata": {},
   "source": [
    "### 2.低频转换成高频\n",
    "- 即数量由少到多"
   ]
  },
  {
   "cell_type": "code",
   "execution_count": 110,
   "metadata": {},
   "outputs": [
    {
     "data": {
      "text/plain": [
       "(100, 4)"
      ]
     },
     "execution_count": 110,
     "metadata": {},
     "output_type": "execute_result"
    }
   ],
   "source": [
    "data2_toupper=data2.asfreq(freq='D')\n",
    "data2_toupper.head()\n",
    "data2_toupper.shape"
   ]
  },
  {
   "cell_type": "markdown",
   "metadata": {},
   "source": [
    "### 填充的方法\n",
    "- 向后填充  pad\n",
    "- 向前填充  bfill"
   ]
  },
  {
   "cell_type": "code",
   "execution_count": 111,
   "metadata": {},
   "outputs": [
    {
     "data": {
      "text/html": [
       "<div>\n",
       "<style scoped>\n",
       "    .dataframe tbody tr th:only-of-type {\n",
       "        vertical-align: middle;\n",
       "    }\n",
       "\n",
       "    .dataframe tbody tr th {\n",
       "        vertical-align: top;\n",
       "    }\n",
       "\n",
       "    .dataframe thead th {\n",
       "        text-align: right;\n",
       "    }\n",
       "</style>\n",
       "<table border=\"1\" class=\"dataframe\">\n",
       "  <thead>\n",
       "    <tr style=\"text-align: right;\">\n",
       "      <th></th>\n",
       "      <th>a</th>\n",
       "      <th>b</th>\n",
       "      <th>c</th>\n",
       "      <th>d</th>\n",
       "    </tr>\n",
       "  </thead>\n",
       "  <tbody>\n",
       "    <tr>\n",
       "      <th>2019-01-01</th>\n",
       "      <td>45</td>\n",
       "      <td>29</td>\n",
       "      <td>56</td>\n",
       "      <td>50</td>\n",
       "    </tr>\n",
       "    <tr>\n",
       "      <th>2019-01-11</th>\n",
       "      <td>7</td>\n",
       "      <td>27</td>\n",
       "      <td>98</td>\n",
       "      <td>93</td>\n",
       "    </tr>\n",
       "    <tr>\n",
       "      <th>2019-01-21</th>\n",
       "      <td>46</td>\n",
       "      <td>52</td>\n",
       "      <td>40</td>\n",
       "      <td>73</td>\n",
       "    </tr>\n",
       "  </tbody>\n",
       "</table>\n",
       "</div>"
      ],
      "text/plain": [
       "             a   b   c   d\n",
       "2019-01-01  45  29  56  50\n",
       "2019-01-11   7  27  98  93\n",
       "2019-01-21  46  52  40  73"
      ]
     },
     "execution_count": 111,
     "metadata": {},
     "output_type": "execute_result"
    }
   ],
   "source": [
    "data2_tolower.asfreq(freq='10D',method='pad').head(3)"
   ]
  }
 ],
 "metadata": {
  "kernelspec": {
   "display_name": "Python 3",
   "language": "python",
   "name": "python3"
  },
  "language_info": {
   "codemirror_mode": {
    "name": "ipython",
    "version": 3
   },
   "file_extension": ".py",
   "mimetype": "text/x-python",
   "name": "python",
   "nbconvert_exporter": "python",
   "pygments_lexer": "ipython3",
   "version": "3.7.3"
  }
 },
 "nbformat": 4,
 "nbformat_minor": 2
}
