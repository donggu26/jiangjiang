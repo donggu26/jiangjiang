{
 "cells": [
  {
   "cell_type": "markdown",
   "metadata": {},
   "source": [
    "# 流程控制语句"
   ]
  },
  {
   "cell_type": "markdown",
   "metadata": {},
   "source": [
    "- 顺序结构\n",
    "- 分支结构\n",
    "- 循环结构"
   ]
  },
  {
   "cell_type": "markdown",
   "metadata": {},
   "source": [
    "## 1.***循环结构***"
   ]
  },
  {
   "cell_type": "code",
   "execution_count": 1,
   "metadata": {},
   "outputs": [
    {
     "name": "stdout",
     "output_type": "stream",
     "text": [
      "祖国\n",
      "生日\n",
      "快乐\n"
     ]
    }
   ],
   "source": [
    "a='祖国'\n",
    "b='生日'\n",
    "c='快乐'\n",
    "print(a)\n",
    "print(b)\n",
    "print(c)"
   ]
  },
  {
   "cell_type": "markdown",
   "metadata": {},
   "source": [
    "## 2.***分支结构*** 条件控制语句"
   ]
  },
  {
   "cell_type": "markdown",
   "metadata": {},
   "source": [
    "- 即if条件判断"
   ]
  },
  {
   "cell_type": "markdown",
   "metadata": {},
   "source": [
    "*    if <条件判断1>:\n",
    "        <执行语句块1>    \n",
    "*    elif <条件判断2>:\n",
    "        <执行语句块2>\n",
    "*    elif <条件判断3>:\n",
    "        <执行语句块3>\n",
    "*    else:\n",
    "        <执行语句块4>"
   ]
  },
  {
   "cell_type": "markdown",
   "metadata": {},
   "source": [
    "1、小例子"
   ]
  },
  {
   "cell_type": "markdown",
   "metadata": {},
   "source": [
    "输入身高体重，根据BMI公式(体重除以身高平方)计算小明的BMI指数，并根据BMI指数：低于18.5：过轻\n",
    "18.5-25：正常 25-28：过重 28-32：肥胖 高于32：严重肥胖"
   ]
  },
  {
   "cell_type": "code",
   "execution_count": 2,
   "metadata": {},
   "outputs": [
    {
     "name": "stdin",
     "output_type": "stream",
     "text": [
      "请输入身高(米)： 1.5\n",
      "请输入体重(千克)： 55\n"
     ]
    },
    {
     "name": "stdout",
     "output_type": "stream",
     "text": [
      "正常\n"
     ]
    }
   ],
   "source": [
    "height=float(input('请输入身高(米)：'))  #input 的类型是str\n",
    "weight=float(input('请输入体重(千克)：'))\n",
    "BMI=weight / (height**2)\n",
    "\n",
    "if BMI < 18.5 :\n",
    "    print('过轻')\n",
    "elif BMI < 25:\n",
    "    print('正常')\n",
    "elif BMI < 28:\n",
    "    print('过重')\n",
    "elif BMI < 32:\n",
    "    print('肥胖')\n",
    "else:\n",
    "    print('严重肥胖')\n"
   ]
  },
  {
   "cell_type": "markdown",
   "metadata": {},
   "source": [
    "2、if 嵌套的小例子"
   ]
  },
  {
   "cell_type": "markdown",
   "metadata": {},
   "source": [
    "要求：输入公交卡当前的余额，只要超过2元，就可以上公交车。如果空座位数大于0，就可以坐下"
   ]
  },
  {
   "cell_type": "code",
   "execution_count": 3,
   "metadata": {},
   "outputs": [
    {
     "name": "stdin",
     "output_type": "stream",
     "text": [
      "请输入公交卡当前的剩余金额： 2\n",
      "输入空座位的个数： 0\n"
     ]
    },
    {
     "name": "stdout",
     "output_type": "stream",
     "text": [
      "离开\n"
     ]
    }
   ],
   "source": [
    "card= float(input('请输入公交卡当前的剩余金额：'))\n",
    "seat=float(input('输入空座位的个数：'))\n",
    "\n",
    "if card >=2:\n",
    "    if seat >0 : \n",
    "        print('可以上公交车')\n",
    "        print('坐下')\n",
    "    else:\n",
    "        print('离开')\n",
    "        \n",
    "else:\n",
    "    print('等待下一班公交车')\n",
    "    \n"
   ]
  },
  {
   "cell_type": "markdown",
   "metadata": {},
   "source": [
    "3、判断年份是否为闰年"
   ]
  },
  {
   "cell_type": "markdown",
   "metadata": {},
   "source": [
    "提示：\n",
    "- 1.世纪闰年：能被400整除的年份(如2000年就是世纪闰年)\n",
    "- 2.普通闰年：能被4整除，但不能被100整除的年份(如2004年就是闰年)\n",
    "- 上述两种方式满足一种即为闰年"
   ]
  },
  {
   "cell_type": "code",
   "execution_count": 4,
   "metadata": {},
   "outputs": [
    {
     "name": "stdin",
     "output_type": "stream",
     "text": [
      "请输入年份： 1900\n"
     ]
    },
    {
     "name": "stdout",
     "output_type": "stream",
     "text": [
      "平年\n"
     ]
    }
   ],
   "source": [
    "# 注意 判断为某个数值是运用 == 来判断\n",
    "# ### 嵌套if函数时，是一个求交集的过程\n",
    "#（首先满足外层if判断条件，其次满足内部条件，返回一个同事满足内部和外部条件的结果）\n",
    "# 若不满足外部条件则返回不符合外部条件的结果值\n",
    "year=int(input('请输入年份：'))\n",
    "\n",
    "if (year%4)==0:\n",
    "    if (year%100)!=0 or (year%400) ==0:\n",
    "        print('闰年')\n",
    "    else:        \n",
    "        print('平年')"
   ]
  },
  {
   "cell_type": "markdown",
   "metadata": {},
   "source": [
    "## 3.***循环结构*** \n",
    "### 3.1***while 循环***"
   ]
  },
  {
   "cell_type": "markdown",
   "metadata": {},
   "source": [
    "* 格式：\n",
    "* while <条件判断>:\n",
    "        <执行语句块1>\n",
    "* else:\n",
    "       <执行语句块2> \n",
    "\n",
    "注释1：在条件语句为False时执行else的语句块， else部分也可以省略\n",
    "注释2：在符合while后判断条件时循环一次后返回while继续循环直到不符合条件判断跳出循环     "
   ]
  },
  {
   "cell_type": "markdown",
   "metadata": {},
   "source": [
    "例1"
   ]
  },
  {
   "cell_type": "code",
   "execution_count": 5,
   "metadata": {},
   "outputs": [
    {
     "name": "stdout",
     "output_type": "stream",
     "text": [
      "第1错了\n",
      "第2错了\n",
      "第3错了\n",
      "第4错了\n",
      "第5错了\n",
      "第6错了\n",
      "第7错了\n",
      "第8错了\n",
      "第9错了\n",
      "第10错了\n",
      "第11错了\n"
     ]
    }
   ],
   "source": [
    "for i in range(11):\n",
    "    i+=1\n",
    "    print('第%d错了'%i)"
   ]
  },
  {
   "cell_type": "markdown",
   "metadata": {},
   "source": [
    "例2、 利用循环计算1+2+3+4+5+....+100的结果"
   ]
  },
  {
   "cell_type": "code",
   "execution_count": 6,
   "metadata": {},
   "outputs": [
    {
     "name": "stdout",
     "output_type": "stream",
     "text": [
      "5050\n"
     ]
    }
   ],
   "source": [
    "# 思路：在i达到101时停止循环  则while的条件判断为 i<=100\n",
    "i=1\n",
    "sum_i=0\n",
    "while i <=100:\n",
    "    sum_i=sum_i+i\n",
    "    i+=1\n",
    "print(sum_i)"
   ]
  },
  {
   "cell_type": "markdown",
   "metadata": {},
   "source": [
    "- 较之前完善"
   ]
  },
  {
   "cell_type": "code",
   "execution_count": 7,
   "metadata": {},
   "outputs": [
    {
     "name": "stdout",
     "output_type": "stream",
     "text": [
      "end\n",
      "5050\n"
     ]
    }
   ],
   "source": [
    "j=1\n",
    "sumj=0\n",
    "while j <100:\n",
    "    sumj=sumj+j\n",
    "    j+=1\n",
    "else:\n",
    "    print('end')\n",
    "    print(sumj+100)"
   ]
  },
  {
   "cell_type": "markdown",
   "metadata": {},
   "source": [
    "例3、计算1-100之间偶数的累计和（包含100）"
   ]
  },
  {
   "cell_type": "code",
   "execution_count": 8,
   "metadata": {},
   "outputs": [],
   "source": [
    "import time"
   ]
  },
  {
   "cell_type": "code",
   "execution_count": 9,
   "metadata": {},
   "outputs": [],
   "source": [
    "from time import time "
   ]
  },
  {
   "cell_type": "code",
   "execution_count": 10,
   "metadata": {},
   "outputs": [
    {
     "name": "stdout",
     "output_type": "stream",
     "text": [
      "2550\n",
      "0.003000020980834961\n"
     ]
    }
   ],
   "source": [
    "time0=time()\n",
    "k=1\n",
    "sumk=0\n",
    "while k <=100:\n",
    "    if k %2 ==0:\n",
    "        sumk=sumk+k\n",
    "    k+=1\n",
    "print(sumk)  \n",
    "print(time()-time0)"
   ]
  },
  {
   "cell_type": "markdown",
   "metadata": {},
   "source": [
    "## 3.2***for循环***"
   ]
  },
  {
   "cell_type": "code",
   "execution_count": 11,
   "metadata": {},
   "outputs": [
    {
     "name": "stdout",
     "output_type": "stream",
     "text": [
      "0\n",
      "1\n",
      "2\n",
      "3\n",
      "4\n",
      "5\n",
      "6\n",
      "7\n",
      "8\n",
      "9\n",
      "10\n"
     ]
    }
   ],
   "source": [
    "for i in range(11):\n",
    "    print(i)"
   ]
  },
  {
   "cell_type": "code",
   "execution_count": 12,
   "metadata": {},
   "outputs": [
    {
     "name": "stdout",
     "output_type": "stream",
     "text": [
      "a\n",
      "b\n",
      "c\n",
      "d\n",
      "e\n"
     ]
    }
   ],
   "source": [
    "l=['a','b','c','d','e']\n",
    "for i in l:\n",
    "    print(i)"
   ]
  },
  {
   "cell_type": "code",
   "execution_count": 13,
   "metadata": {},
   "outputs": [
    {
     "name": "stdout",
     "output_type": "stream",
     "text": [
      "祖\n",
      "国\n",
      "生\n",
      "日\n",
      "快\n",
      "乐\n"
     ]
    }
   ],
   "source": [
    "s='祖国生日快乐'\n",
    "for j in range(len(s)):\n",
    "    print(s[j])"
   ]
  },
  {
   "cell_type": "markdown",
   "metadata": {},
   "source": [
    "* range 简介"
   ]
  },
  {
   "cell_type": "code",
   "execution_count": 14,
   "metadata": {},
   "outputs": [
    {
     "data": {
      "text/plain": [
       "range(0, 11)"
      ]
     },
     "execution_count": 14,
     "metadata": {},
     "output_type": "execute_result"
    }
   ],
   "source": [
    "range(11)"
   ]
  },
  {
   "cell_type": "markdown",
   "metadata": {},
   "source": [
    "* [* ] 解压内容"
   ]
  },
  {
   "cell_type": "code",
   "execution_count": 15,
   "metadata": {},
   "outputs": [
    {
     "data": {
      "text/plain": [
       "[0, 1, 2, 3, 4, 5, 6, 7, 8, 9, 10]"
      ]
     },
     "execution_count": 15,
     "metadata": {},
     "output_type": "execute_result"
    }
   ],
   "source": [
    "[*range(11)]"
   ]
  },
  {
   "cell_type": "markdown",
   "metadata": {},
   "source": [
    "## break 用法  打断"
   ]
  },
  {
   "cell_type": "markdown",
   "metadata": {},
   "source": [
    "- Break语句用来终止最内层的循环"
   ]
  },
  {
   "cell_type": "markdown",
   "metadata": {},
   "source": [
    "break 一出后续的所有代码则不会运行"
   ]
  },
  {
   "cell_type": "code",
   "execution_count": 16,
   "metadata": {},
   "outputs": [
    {
     "name": "stdout",
     "output_type": "stream",
     "text": [
      "祖\n"
     ]
    }
   ],
   "source": [
    "for i in s:\n",
    "    print(i)\n",
    "    break"
   ]
  },
  {
   "cell_type": "code",
   "execution_count": 17,
   "metadata": {},
   "outputs": [
    {
     "name": "stdout",
     "output_type": "stream",
     "text": [
      "祖\n",
      "国\n",
      "生\n",
      "日\n",
      "快\n",
      "乐\n"
     ]
    }
   ],
   "source": [
    "# 弱项显示所有的内容可以加一个if判断\n",
    "n=0\n",
    "for i in s:\n",
    "    print(i)\n",
    "    n+=1\n",
    "    if n==len(s):\n",
    "        break\n",
    "#     break  #加入此代码结果只出现  祖\n",
    "# 思路 ：n=1 if中条件此时不满足则执行最终的break代码，结果只返回‘祖’"
   ]
  },
  {
   "cell_type": "markdown",
   "metadata": {},
   "source": [
    "## continue 用法  跳过"
   ]
  },
  {
   "cell_type": "markdown",
   "metadata": {},
   "source": [
    "* continue 用来跳过最内层当前次的循环"
   ]
  },
  {
   "cell_type": "code",
   "execution_count": 18,
   "metadata": {},
   "outputs": [
    {
     "name": "stdout",
     "output_type": "stream",
     "text": [
      "祖\n",
      "国\n",
      "生\n",
      "日\n",
      "快\n",
      "乐\n"
     ]
    }
   ],
   "source": [
    "for i in s:\n",
    "    print(i)\n",
    "    continue"
   ]
  },
  {
   "cell_type": "code",
   "execution_count": 19,
   "metadata": {},
   "outputs": [],
   "source": [
    "for i in s:\n",
    "    continue\n",
    "    print(i)"
   ]
  },
  {
   "cell_type": "code",
   "execution_count": 20,
   "metadata": {},
   "outputs": [
    {
     "name": "stdout",
     "output_type": "stream",
     "text": [
      "祖\n",
      "国\n",
      "万\n",
      "岁\n"
     ]
    }
   ],
   "source": [
    "l='祖国生日快乐万岁'\n",
    "n=0\n",
    "for  i in l:\n",
    "    n+=1\n",
    "    if n==3 or n==4 or n==5 or n==6:\n",
    "        continue\n",
    "    print(i)\n",
    "# 此处的n=3、n=4、n=5、n=6的循环都跳过了，结果只显示了s中的1,2,7,8字符"
   ]
  },
  {
   "cell_type": "markdown",
   "metadata": {},
   "source": [
    "*  ***小小插曲***"
   ]
  },
  {
   "cell_type": "code",
   "execution_count": 21,
   "metadata": {},
   "outputs": [
    {
     "data": {
      "text/plain": [
       "['喜', '欢', '少', '年', '是', '你']"
      ]
     },
     "execution_count": 21,
     "metadata": {},
     "output_type": "execute_result"
    }
   ],
   "source": [
    "st1=['你','是','年','少','欢','喜']\n",
    "st1.reverse()\n",
    "st1"
   ]
  },
  {
   "cell_type": "code",
   "execution_count": 22,
   "metadata": {},
   "outputs": [
    {
     "name": "stdout",
     "output_type": "stream",
     "text": [
      "['喜']\n",
      "['喜', '欢']\n",
      "['喜', '欢', '你']\n"
     ]
    }
   ],
   "source": [
    "n= 0\n",
    "l=[]\n",
    "for i in st1:\n",
    "    n+=1\n",
    "    if n==3 or n==4 or n==5:\n",
    "        continue\n",
    "    l.append(i)\n",
    "    print(l)    \n",
    "# print('end')\n",
    "# 直观的展现了continue的用途，\n",
    "# if n==3的条件后加了continue后表明将n=3这次的循环跳过"
   ]
  },
  {
   "cell_type": "code",
   "execution_count": 23,
   "metadata": {},
   "outputs": [
    {
     "name": "stdout",
     "output_type": "stream",
     "text": [
      "['你']\n",
      "['你', '年']\n",
      "['你', '年', '少']\n",
      "['你', '年', '少', '欢']\n",
      "['你', '年', '少', '欢', '喜']\n"
     ]
    }
   ],
   "source": [
    "n=0\n",
    "l1=[]\n",
    "st2=['你','是','年','少','欢','喜']\n",
    "for i in st2:\n",
    "    n+=1\n",
    "    if n==2:\n",
    "        continue\n",
    "    l1.append(i)\n",
    "    print(l1)\n"
   ]
  },
  {
   "cell_type": "code",
   "execution_count": 24,
   "metadata": {},
   "outputs": [],
   "source": [
    "# st2=['你','是','年','少','欢','喜']\n",
    "# n=0\n",
    "# for i in range(len(st2)):\n",
    "#     while True:\n",
    "#         print(i)\n",
    "#         n=n+1\n",
    "#         if n==5:\n",
    "#             break"
   ]
  },
  {
   "cell_type": "markdown",
   "metadata": {},
   "source": [
    "# 例子"
   ]
  },
  {
   "cell_type": "markdown",
   "metadata": {},
   "source": [
    "###  1.***寻找水仙花数***\n",
    "  - 一个三位数=各个位置上的数值的立方和"
   ]
  },
  {
   "cell_type": "code",
   "execution_count": 25,
   "metadata": {},
   "outputs": [
    {
     "data": {
      "text/plain": [
       "153"
      ]
     },
     "execution_count": 25,
     "metadata": {},
     "output_type": "execute_result"
    }
   ],
   "source": [
    "1**3+5**3+3**3 "
   ]
  },
  {
   "cell_type": "code",
   "execution_count": 26,
   "metadata": {},
   "outputs": [
    {
     "data": {
      "text/plain": [
       "True"
      ]
     },
     "execution_count": 26,
     "metadata": {},
     "output_type": "execute_result"
    }
   ],
   "source": [
    "1**3+5**3+3**3==153"
   ]
  },
  {
   "cell_type": "code",
   "execution_count": 27,
   "metadata": {},
   "outputs": [
    {
     "data": {
      "text/plain": [
       "1"
      ]
     },
     "execution_count": 27,
     "metadata": {},
     "output_type": "execute_result"
    }
   ],
   "source": [
    "153 // 100"
   ]
  },
  {
   "cell_type": "code",
   "execution_count": 28,
   "metadata": {},
   "outputs": [
    {
     "data": {
      "text/plain": [
       "53"
      ]
     },
     "execution_count": 28,
     "metadata": {},
     "output_type": "execute_result"
    }
   ],
   "source": [
    "153 % 100"
   ]
  },
  {
   "cell_type": "code",
   "execution_count": 29,
   "metadata": {},
   "outputs": [
    {
     "data": {
      "text/plain": [
       "5"
      ]
     },
     "execution_count": 29,
     "metadata": {},
     "output_type": "execute_result"
    }
   ],
   "source": [
    "153 %100 //10"
   ]
  },
  {
   "cell_type": "code",
   "execution_count": 30,
   "metadata": {},
   "outputs": [
    {
     "data": {
      "text/plain": [
       "3"
      ]
     },
     "execution_count": 30,
     "metadata": {},
     "output_type": "execute_result"
    }
   ],
   "source": [
    "153 %100 %10"
   ]
  },
  {
   "cell_type": "markdown",
   "metadata": {},
   "source": [
    "* ***规律观察***\n",
    "- 153 //100 整除结果为1\n",
    "- 153 %10   取余为3\n",
    "- 153 //100 % 10  先除100取余得到53,在将53整除10得到整数部分的数值5\n",
    "- 这两种方式分别得到百位数上的值、及个位数上的值"
   ]
  },
  {
   "cell_type": "markdown",
   "metadata": {},
   "source": [
    "- ***方式一***"
   ]
  },
  {
   "cell_type": "code",
   "execution_count": 31,
   "metadata": {},
   "outputs": [
    {
     "data": {
      "text/plain": [
       "True"
      ]
     },
     "execution_count": 31,
     "metadata": {},
     "output_type": "execute_result"
    }
   ],
   "source": [
    "153%100//10== 153//10%10  \n",
    "# 这两种得出的结果一样，那会影响寻找水仙花的个数？\n",
    "# 接下来进行一下实验"
   ]
  },
  {
   "cell_type": "markdown",
   "metadata": {},
   "source": [
    "- 个位数的结果采用如 153%100//10这种方式\n",
    "- 153%100 取余53\n",
    "- 53//10 取整 5"
   ]
  },
  {
   "cell_type": "code",
   "execution_count": 32,
   "metadata": {},
   "outputs": [
    {
     "name": "stdout",
     "output_type": "stream",
     "text": [
      "153\n",
      "370\n",
      "371\n",
      "407\n"
     ]
    }
   ],
   "source": [
    "for i  in range(100,1000):\n",
    "    a = i//100\n",
    "    b = i%100//10\n",
    "    c = i%10\n",
    "    if a**3+b**3+c**3 == i:\n",
    "        print(i)"
   ]
  },
  {
   "cell_type": "markdown",
   "metadata": {},
   "source": [
    "- 个位数的结果采用如 153//10%10\n",
    "- 153//10 取整15 \n",
    "- 15%10 取余5 "
   ]
  },
  {
   "cell_type": "code",
   "execution_count": 33,
   "metadata": {},
   "outputs": [
    {
     "name": "stdout",
     "output_type": "stream",
     "text": [
      "153\n",
      "370\n",
      "371\n",
      "407\n"
     ]
    }
   ],
   "source": [
    "for j in range(100,1000):\n",
    "    d = j//100\n",
    "    e = j//10%10\n",
    "    f = j%10\n",
    "    if d**3+e**3+f**3 == j:\n",
    "        print(j)"
   ]
  },
  {
   "cell_type": "markdown",
   "metadata": {},
   "source": [
    "实践证明两者得到的数值是一样的"
   ]
  },
  {
   "cell_type": "markdown",
   "metadata": {},
   "source": [
    "- ***方式二***"
   ]
  },
  {
   "cell_type": "markdown",
   "metadata": {},
   "source": [
    "   - 思路：将其转变成字符串通过索引得到百位数、十位数、个位数\n",
    "   - 需要注意的是计算立方和时将其转变成整数型 int"
   ]
  },
  {
   "cell_type": "code",
   "execution_count": 34,
   "metadata": {},
   "outputs": [],
   "source": [
    "s=str(153)"
   ]
  },
  {
   "cell_type": "code",
   "execution_count": 35,
   "metadata": {},
   "outputs": [
    {
     "data": {
      "text/plain": [
       "'1'"
      ]
     },
     "execution_count": 35,
     "metadata": {},
     "output_type": "execute_result"
    }
   ],
   "source": [
    "s[0]"
   ]
  },
  {
   "cell_type": "code",
   "execution_count": 36,
   "metadata": {},
   "outputs": [
    {
     "data": {
      "text/plain": [
       "'5'"
      ]
     },
     "execution_count": 36,
     "metadata": {},
     "output_type": "execute_result"
    }
   ],
   "source": [
    "s[1]"
   ]
  },
  {
   "cell_type": "code",
   "execution_count": 37,
   "metadata": {},
   "outputs": [
    {
     "data": {
      "text/plain": [
       "'3'"
      ]
     },
     "execution_count": 37,
     "metadata": {},
     "output_type": "execute_result"
    }
   ],
   "source": [
    "s[2]"
   ]
  },
  {
   "cell_type": "code",
   "execution_count": 38,
   "metadata": {},
   "outputs": [
    {
     "data": {
      "text/plain": [
       "True"
      ]
     },
     "execution_count": 38,
     "metadata": {},
     "output_type": "execute_result"
    }
   ],
   "source": [
    "# 求取立方和\n",
    "g3=int(s[0])**3+int(s[1])**3+int(s[2])**3\n",
    "g3== int(s)"
   ]
  },
  {
   "cell_type": "code",
   "execution_count": 39,
   "metadata": {},
   "outputs": [
    {
     "name": "stdout",
     "output_type": "stream",
     "text": [
      "153\n",
      "370\n",
      "371\n",
      "407\n"
     ]
    }
   ],
   "source": [
    "for k in range(100,1000):\n",
    "    k_str=str(k)\n",
    "    if int(k_str[0])**3+int(k_str[1])**3+int(k_str[2])**3 == k:\n",
    "        print(k)"
   ]
  },
  {
   "cell_type": "markdown",
   "metadata": {},
   "source": [
    "- ***方式三***"
   ]
  },
  {
   "cell_type": "markdown",
   "metadata": {},
   "source": [
    "- 思路：\n",
    "  - 百位、十位、个位分别设定范围"
   ]
  },
  {
   "cell_type": "code",
   "execution_count": 40,
   "metadata": {},
   "outputs": [
    {
     "name": "stdout",
     "output_type": "stream",
     "text": [
      "153\n",
      "370\n",
      "371\n",
      "407\n",
      "True\n"
     ]
    }
   ],
   "source": [
    "for x in range(1,10):\n",
    "    for y in range(0,10):\n",
    "        for z in range(0,10):\n",
    "            sum1=x*100+y*10+z\n",
    "            sum2=x**3+y**3+z**3\n",
    "            sum3=pow(x,3)+pow(y,3)+pow(z,3)\n",
    "            # 注释：pow 是python内置的幂函数\n",
    "            # pow(x,y)  = x**y\n",
    "            if  sum1==sum2 :\n",
    "                print(sum1)\n",
    "print(sum2==sum3)"
   ]
  },
  {
   "cell_type": "markdown",
   "metadata": {},
   "source": [
    "###  2.***九九乘法表***"
   ]
  },
  {
   "cell_type": "markdown",
   "metadata": {},
   "source": [
    "for 循环"
   ]
  },
  {
   "cell_type": "code",
   "execution_count": 44,
   "metadata": {},
   "outputs": [
    {
     "name": "stdout",
     "output_type": "stream",
     "text": [
      "1*1=1\t\n",
      "2*1=2\t2*2=4\t\n",
      "3*1=3\t3*2=6\t3*3=9\t\n",
      "4*1=4\t4*2=8\t4*3=12\t4*4=16\t\n",
      "5*1=5\t5*2=10\t5*3=15\t5*4=20\t5*5=25\t\n",
      "6*1=6\t6*2=12\t6*3=18\t6*4=24\t6*5=30\t6*6=36\t\n",
      "7*1=7\t7*2=14\t7*3=21\t7*4=28\t7*5=35\t7*6=42\t7*7=49\t\n",
      "8*1=8\t8*2=16\t8*3=24\t8*4=32\t8*5=40\t8*6=48\t8*7=56\t8*8=64\t\n",
      "9*1=9\t9*2=18\t9*3=27\t9*4=36\t9*5=45\t9*6=54\t9*7=63\t9*8=72\t9*9=81\t\n"
     ]
    }
   ],
   "source": [
    "# \\n 换行  \\t 制表符 tab键\n",
    "for i in range(1,10):\n",
    "    for j in range(1,i+1):\n",
    "         print('%s*%s=%s'%(i,j,i*j),end='\\t') \n",
    "    print('')"
   ]
  },
  {
   "cell_type": "code",
   "execution_count": 47,
   "metadata": {},
   "outputs": [
    {
     "name": "stdout",
     "output_type": "stream",
     "text": [
      "1x1= 1\t\n",
      "2x1= 2\t2x2= 4\t\n",
      "3x1= 3\t3x2= 6\t3x3= 9\t\n",
      "4x1= 4\t4x2= 8\t4x3= 12\t4x4= 16\t\n",
      "5x1= 5\t5x2= 10\t5x3= 15\t5x4= 20\t5x5= 25\t\n",
      "6x1= 6\t6x2= 12\t6x3= 18\t6x4= 24\t6x5= 30\t6x6= 36\t\n",
      "7x1= 7\t7x2= 14\t7x3= 21\t7x4= 28\t7x5= 35\t7x6= 42\t7x7= 49\t\n",
      "8x1= 8\t8x2= 16\t8x3= 24\t8x4= 32\t8x5= 40\t8x6= 48\t8x7= 56\t8x8= 64\t\n",
      "9x1= 9\t9x2= 18\t9x3= 27\t9x4= 36\t9x5= 45\t9x6= 54\t9x7= 63\t9x8= 72\t9x9= 81\t\n"
     ]
    }
   ],
   "source": [
    "for i in range(1,10):\n",
    "    for j in range(1,i+1):\n",
    "        print('{}x{}='.format(i,j),i*j,end='\\t')\n",
    "    print('')"
   ]
  },
  {
   "cell_type": "code",
   "execution_count": 51,
   "metadata": {},
   "outputs": [
    {
     "name": "stdout",
     "output_type": "stream",
     "text": [
      "1*1=1\t\n",
      "2*1=2\t2*2=4\t\n",
      "3*1=3\t3*2=6\t3*3=9\t\n",
      "4*1=4\t4*2=8\t4*3=12\t4*4=16\t\n",
      "5*1=5\t5*2=10\t5*3=15\t5*4=20\t5*5=25\t\n",
      "6*1=6\t6*2=12\t6*3=18\t6*4=24\t6*5=30\t6*6=36\t\n",
      "7*1=7\t7*2=14\t7*3=21\t7*4=28\t7*5=35\t7*6=42\t7*7=49\t\n",
      "8*1=8\t8*2=16\t8*3=24\t8*4=32\t8*5=40\t8*6=48\t8*7=56\t8*8=64\t\n",
      "9*1=9\t9*2=18\t9*3=27\t9*4=36\t9*5=45\t9*6=54\t9*7=63\t9*8=72\t9*9=81\t\n"
     ]
    }
   ],
   "source": [
    "for i in range(1,10):\n",
    "    for j in range(1,10):\n",
    "        if i>=j:\n",
    "            print('%s*%s=%s'%(i,j,i*j),end='\\t')\n",
    "    print('')"
   ]
  },
  {
   "cell_type": "code",
   "execution_count": 52,
   "metadata": {},
   "outputs": [
    {
     "name": "stdout",
     "output_type": "stream",
     "text": [
      "1*1=1\t1*2=2\t1*3=3\t1*4=4\t1*5=5\t1*6=6\t1*7=7\t1*8=8\t1*9=9\t\n",
      "2*2=4\t2*3=6\t2*4=8\t2*5=10\t2*6=12\t2*7=14\t2*8=16\t2*9=18\t\n",
      "3*3=9\t3*4=12\t3*5=15\t3*6=18\t3*7=21\t3*8=24\t3*9=27\t\n",
      "4*4=16\t4*5=20\t4*6=24\t4*7=28\t4*8=32\t4*9=36\t\n",
      "5*5=25\t5*6=30\t5*7=35\t5*8=40\t5*9=45\t\n",
      "6*6=36\t6*7=42\t6*8=48\t6*9=54\t\n",
      "7*7=49\t7*8=56\t7*9=63\t\n",
      "8*8=64\t8*9=72\t\n",
      "9*9=81\t\n"
     ]
    }
   ],
   "source": [
    "for i in range(1,10):\n",
    "    for j in range(1,10):\n",
    "        if i<=j:\n",
    "            print('%s*%s=%s'%(i,j,i*j),end='\\t')\n",
    "    print('')"
   ]
  },
  {
   "cell_type": "markdown",
   "metadata": {},
   "source": [
    "while 循环"
   ]
  },
  {
   "cell_type": "code",
   "execution_count": 65,
   "metadata": {},
   "outputs": [
    {
     "name": "stdout",
     "output_type": "stream",
     "text": [
      "1*1=1\t\n",
      "2*1=2\t2*2=4\t\n",
      "3*1=3\t3*2=6\t3*3=9\t\n",
      "4*1=4\t4*2=8\t4*3=12\t4*4=16\t\n",
      "5*1=5\t5*2=10\t5*3=15\t5*4=20\t5*5=25\t\n",
      "6*1=6\t6*2=12\t6*3=18\t6*4=24\t6*5=30\t6*6=36\t\n",
      "7*1=7\t7*2=14\t7*3=21\t7*4=28\t7*5=35\t7*6=42\t7*7=49\t\n",
      "8*1=8\t8*2=16\t8*3=24\t8*4=32\t8*5=40\t8*6=48\t8*7=56\t8*8=64\t\n",
      "9*1=9\t9*2=18\t9*3=27\t9*4=36\t9*5=45\t9*6=54\t9*7=63\t9*8=72\t9*9=81\t\n"
     ]
    }
   ],
   "source": [
    "i=0\n",
    "j=0\n",
    "while i<9:\n",
    "    i+=1\n",
    "    while j < 9:\n",
    "        j+=1  \n",
    "        print(\"%s*%s=%s\"%(i,j,i*j),end='\\t')\n",
    "        if i ==j:  \n",
    "            j=0     #在i=j后将j=0循环一次变成1，则开启了下一行的计算 i*1 i*2 i*3 。。。。。。\n",
    "            print('')\n",
    "            break\n",
    "    "
   ]
  },
  {
   "cell_type": "markdown",
   "metadata": {},
   "source": [
    "- 倒着输出的九九乘法表"
   ]
  },
  {
   "cell_type": "code",
   "execution_count": 75,
   "metadata": {},
   "outputs": [
    {
     "name": "stdout",
     "output_type": "stream",
     "text": [
      "9x9= 81\t9x8= 72\t9x7= 63\t9x6= 54\t9x5= 45\t9x4= 36\t9x3= 27\t9x2= 18\t9x1= 9\t\n",
      "8x8= 64\t8x7= 56\t8x6= 48\t8x5= 40\t8x4= 32\t8x3= 24\t8x2= 16\t8x1= 8\t\n",
      "7x7= 49\t7x6= 42\t7x5= 35\t7x4= 28\t7x3= 21\t7x2= 14\t7x1= 7\t\n",
      "6x6= 36\t6x5= 30\t6x4= 24\t6x3= 18\t6x2= 12\t6x1= 6\t\n",
      "5x5= 25\t5x4= 20\t5x3= 15\t5x2= 10\t5x1= 5\t\n",
      "4x4= 16\t4x3= 12\t4x2= 8\t4x1= 4\t\n",
      "3x3= 9\t3x2= 6\t3x1= 3\t\n",
      "2x2= 4\t2x1= 2\t\n",
      "1x1= 1\t\n"
     ]
    }
   ],
   "source": [
    "for i in range(9,0,-1):\n",
    "    for j in range(9,0,-1):\n",
    "        if i>=j:\n",
    "            print('{}x{}='.format(i,j),i*j,end='\\t')\n",
    "    print('')  #循环出一行乘法式，紧随其后打印出一个空值"
   ]
  },
  {
   "cell_type": "code",
   "execution_count": null,
   "metadata": {},
   "outputs": [],
   "source": []
  },
  {
   "cell_type": "markdown",
   "metadata": {},
   "source": [
    "# 难点： 列表推导式、列表生成式"
   ]
  },
  {
   "cell_type": "markdown",
   "metadata": {},
   "source": [
    "- 生成2-20偶数的列表"
   ]
  },
  {
   "cell_type": "code",
   "execution_count": 78,
   "metadata": {},
   "outputs": [
    {
     "data": {
      "text/plain": [
       "[2, 4, 6, 8, 10, 12, 14, 16, 18, 20]"
      ]
     },
     "execution_count": 78,
     "metadata": {},
     "output_type": "execute_result"
    }
   ],
   "source": [
    "# 常用的生成列表的方式\n",
    "# * 解压 外加列表 表示解压成列表\n",
    "[*range(2,21,2)]"
   ]
  },
  {
   "cell_type": "code",
   "execution_count": 81,
   "metadata": {},
   "outputs": [
    {
     "data": {
      "text/plain": [
       "[2, 4, 6, 8, 10, 12, 14, 16, 18, 20]"
      ]
     },
     "execution_count": 81,
     "metadata": {},
     "output_type": "execute_result"
    }
   ],
   "source": [
    "l=[]\n",
    "for i in range(2,21,2):\n",
    "    l.append(i)\n",
    "l"
   ]
  },
  {
   "cell_type": "code",
   "execution_count": 82,
   "metadata": {},
   "outputs": [
    {
     "data": {
      "text/plain": [
       "[10, 20, 30, 40, 50, 60, 70, 80, 90]"
      ]
     },
     "execution_count": 82,
     "metadata": {},
     "output_type": "execute_result"
    }
   ],
   "source": [
    "# 列表生成式\n",
    "[i*10 for i in range(1,10)]"
   ]
  },
  {
   "cell_type": "code",
   "execution_count": 87,
   "metadata": {},
   "outputs": [
    {
     "data": {
      "text/plain": [
       "['祖__*', '国__*', '生__*', '日__*', '快__*', '乐__*']"
      ]
     },
     "execution_count": 87,
     "metadata": {},
     "output_type": "execute_result"
    }
   ],
   "source": [
    "# 列表生成式\n",
    "r='祖国生日快乐'\n",
    "[i+'__'+'*' for i in r]"
   ]
  },
  {
   "cell_type": "code",
   "execution_count": null,
   "metadata": {},
   "outputs": [],
   "source": []
  }
 ],
 "metadata": {
  "kernelspec": {
   "display_name": "Python 3",
   "language": "python",
   "name": "python3"
  },
  "language_info": {
   "codemirror_mode": {
    "name": "ipython",
    "version": 3
   },
   "file_extension": ".py",
   "mimetype": "text/x-python",
   "name": "python",
   "nbconvert_exporter": "python",
   "pygments_lexer": "ipython3",
   "version": "3.7.3"
  }
 },
 "nbformat": 4,
 "nbformat_minor": 2
}
